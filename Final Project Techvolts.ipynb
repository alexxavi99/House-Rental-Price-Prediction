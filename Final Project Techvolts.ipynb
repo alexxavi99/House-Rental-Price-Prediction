{
 "cells": [
  {
   "cell_type": "markdown",
   "id": "72ca9f51",
   "metadata": {},
   "source": [
    "# <center> INTERNSHIP PROJECT </center>"
   ]
  },
  {
   "cell_type": "markdown",
   "id": "d7cbe8c9",
   "metadata": {},
   "source": [
    "## NAME                :          <FONT COLOR=\"ORANGE\">AROCKIA ALEX XAVIER RAJ  J</FONT>\n",
    "## DEPARTMENT  :          <FONT COLOR=\"ORANGE\"> MSC DATA SCIENCE </FONT>\n",
    "## COLLEGE         :          <FONT COLOR=\"ORANGE\"> ST.JOSEPH'S COLLEGE,TRICHY.</FONT>"
   ]
  },
  {
   "cell_type": "markdown",
   "id": "964a3928",
   "metadata": {},
   "source": [
    "********************************************************************************************************************************"
   ]
  },
  {
   "cell_type": "markdown",
   "id": "28d2f906",
   "metadata": {},
   "source": [
    "# TOPIC: HOUSE RENTAL PREDICTION ON METROPOLITAN CITIES IN INDIA"
   ]
  },
  {
   "cell_type": "markdown",
   "id": "9ff2c49d",
   "metadata": {},
   "source": [
    "<img src=\"a.jpg\" width=\"400\">"
   ]
  },
  {
   "cell_type": "markdown",
   "id": "695bc5ca",
   "metadata": {},
   "source": [
    "## PROBLEM STATEMENT:\n",
    "*\tHouse and apartment rental prices are influenced by various factors. However, a good rent price predictions model analyses the different features of a home and its surroundings to generate the most suitable rent price.\n",
    "\tTo understand the Key Features involved in the Rental Price of a house.\n",
    "*\tKey Features include-\n",
    "        1.\tNumber of bedrooms\n",
    "        2.\tNumber of bathrooms\n",
    "        3.\tLocation\n",
    "        4.\tArea\n",
    "        5.\tFurnished Status\n",
    "\n",
    "*\tTo Predict the Rental Price of a similar house from the existing data\n",
    "\n",
    "*\tCreate an effective price prediction model\n",
    "\n",
    "*\tValidate the model’s prediction accuracy\n",
    "\n",
    "*\tIdentify the important home price attributes which feed the model’s predictive power.\n"
   ]
  },
  {
   "cell_type": "markdown",
   "id": "cf0f330b",
   "metadata": {},
   "source": [
    "# Dataset Desciption:\n",
    "\n",
    "1. SELLER TYPE: - AGENT, OWNER, BUILDER\n",
    "\n",
    "2. NUMBER OF BEDROOMS:- Number of Bedrooms in a Particular property\n",
    "\n",
    "3. LAYOUT TYPE:- BHK And RHK\n",
    "\n",
    "4. PROPERTY TYPE:- Apartment, Independent House, Independent Floor, Villa,Penthouse\n",
    "\n",
    "5. LOCALITY:- Location of the Property\n",
    "\n",
    "6. AREA:- Area Size in Square Feet\n",
    "\n",
    "7. FURNISH TYPE:- Furnished, Semi-Furnished, Unfurnished\n",
    "\n",
    "8. NUMBER OF BATHROOMS:- Amount of Bathrooms in a Property\n",
    "\n",
    "9. CITY: - Name of the Cities where the house located\n",
    "\n",
    "9. PRICE:- Price of the Property (Target Variable)\n",
    "\n"
   ]
  },
  {
   "cell_type": "markdown",
   "id": "5c01f285",
   "metadata": {},
   "source": [
    "### IMPORTING LIBRARIES "
   ]
  },
  {
   "cell_type": "code",
   "execution_count": 189,
   "id": "92e3cf31",
   "metadata": {},
   "outputs": [],
   "source": [
    "# Importing all libraries required\n",
    "import pandas as pd\n",
    "import numpy as np\n",
    "import matplotlib.pyplot as plt\n",
    "import seaborn as sns\n",
    "import math\n",
    "from sklearn import metrics\n",
    "from sklearn.metrics import mean_squared_error,r2_score,accuracy_score\n",
    "import warnings\n",
    "warnings.filterwarnings(\"ignore\")"
   ]
  },
  {
   "cell_type": "code",
   "execution_count": 190,
   "id": "ad13d6d2",
   "metadata": {},
   "outputs": [
    {
     "data": {
      "text/plain": [
       "'C:\\\\Users\\\\Alex\\\\Downloads\\\\_All_Cities_Cleaned.csv'"
      ]
     },
     "execution_count": 190,
     "metadata": {},
     "output_type": "execute_result"
    }
   ],
   "source": [
    "pwd"
   ]
  },
  {
   "cell_type": "markdown",
   "id": "e0ff452c",
   "metadata": {},
   "source": [
    "<h3><font color = \"green\">LOADING THE DATASET</font>"
   ]
  },
  {
   "cell_type": "code",
   "execution_count": 191,
   "id": "0ec875fb",
   "metadata": {},
   "outputs": [
    {
     "name": "stdout",
     "output_type": "stream",
     "text": [
      "Dataset loaded successfully\n"
     ]
    }
   ],
   "source": [
    "# loading dataset into pandas dataframe\n",
    "cr = pd.read_csv('_All_Cities_Cleaned.csv')\n",
    "print(\"Dataset loaded successfully\")"
   ]
  },
  {
   "cell_type": "markdown",
   "id": "4bae96c4",
   "metadata": {},
   "source": [
    "### DATA PREPROCESSING"
   ]
  },
  {
   "cell_type": "code",
   "execution_count": 192,
   "id": "05928bf5",
   "metadata": {},
   "outputs": [
    {
     "data": {
      "text/html": [
       "<div>\n",
       "<style scoped>\n",
       "    .dataframe tbody tr th:only-of-type {\n",
       "        vertical-align: middle;\n",
       "    }\n",
       "\n",
       "    .dataframe tbody tr th {\n",
       "        vertical-align: top;\n",
       "    }\n",
       "\n",
       "    .dataframe thead th {\n",
       "        text-align: right;\n",
       "    }\n",
       "</style>\n",
       "<table border=\"1\" class=\"dataframe\">\n",
       "  <thead>\n",
       "    <tr style=\"text-align: right;\">\n",
       "      <th></th>\n",
       "      <th>seller_type</th>\n",
       "      <th>bedroom</th>\n",
       "      <th>layout_type</th>\n",
       "      <th>property_type</th>\n",
       "      <th>locality</th>\n",
       "      <th>price</th>\n",
       "      <th>area</th>\n",
       "      <th>furnish_type</th>\n",
       "      <th>bathroom</th>\n",
       "      <th>city</th>\n",
       "    </tr>\n",
       "  </thead>\n",
       "  <tbody>\n",
       "    <tr>\n",
       "      <th>0</th>\n",
       "      <td>OWNER</td>\n",
       "      <td>2.0</td>\n",
       "      <td>BHK</td>\n",
       "      <td>Apartment</td>\n",
       "      <td>Bodakdev</td>\n",
       "      <td>20000.0</td>\n",
       "      <td>1450.0</td>\n",
       "      <td>Furnished</td>\n",
       "      <td>2.0</td>\n",
       "      <td>Ahmedabad</td>\n",
       "    </tr>\n",
       "    <tr>\n",
       "      <th>1</th>\n",
       "      <td>OWNER</td>\n",
       "      <td>1.0</td>\n",
       "      <td>RK</td>\n",
       "      <td>Studio Apartment</td>\n",
       "      <td>CG Road</td>\n",
       "      <td>7350.0</td>\n",
       "      <td>210.0</td>\n",
       "      <td>Semi-Furnished</td>\n",
       "      <td>1.0</td>\n",
       "      <td>Ahmedabad</td>\n",
       "    </tr>\n",
       "    <tr>\n",
       "      <th>2</th>\n",
       "      <td>OWNER</td>\n",
       "      <td>3.0</td>\n",
       "      <td>BHK</td>\n",
       "      <td>Apartment</td>\n",
       "      <td>Jodhpur</td>\n",
       "      <td>22000.0</td>\n",
       "      <td>1900.0</td>\n",
       "      <td>Unfurnished</td>\n",
       "      <td>3.0</td>\n",
       "      <td>Ahmedabad</td>\n",
       "    </tr>\n",
       "    <tr>\n",
       "      <th>3</th>\n",
       "      <td>OWNER</td>\n",
       "      <td>2.0</td>\n",
       "      <td>BHK</td>\n",
       "      <td>Independent House</td>\n",
       "      <td>Sanand</td>\n",
       "      <td>13000.0</td>\n",
       "      <td>1285.0</td>\n",
       "      <td>Semi-Furnished</td>\n",
       "      <td>2.0</td>\n",
       "      <td>Ahmedabad</td>\n",
       "    </tr>\n",
       "    <tr>\n",
       "      <th>4</th>\n",
       "      <td>OWNER</td>\n",
       "      <td>2.0</td>\n",
       "      <td>BHK</td>\n",
       "      <td>Independent House</td>\n",
       "      <td>Navrangpura</td>\n",
       "      <td>18000.0</td>\n",
       "      <td>1600.0</td>\n",
       "      <td>Furnished</td>\n",
       "      <td>2.0</td>\n",
       "      <td>Ahmedabad</td>\n",
       "    </tr>\n",
       "  </tbody>\n",
       "</table>\n",
       "</div>"
      ],
      "text/plain": [
       "  seller_type  bedroom layout_type      property_type     locality    price  \\\n",
       "0       OWNER      2.0         BHK          Apartment     Bodakdev  20000.0   \n",
       "1       OWNER      1.0          RK   Studio Apartment      CG Road   7350.0   \n",
       "2       OWNER      3.0         BHK          Apartment      Jodhpur  22000.0   \n",
       "3       OWNER      2.0         BHK  Independent House       Sanand  13000.0   \n",
       "4       OWNER      2.0         BHK  Independent House  Navrangpura  18000.0   \n",
       "\n",
       "     area    furnish_type  bathroom       city  \n",
       "0  1450.0       Furnished       2.0  Ahmedabad  \n",
       "1   210.0  Semi-Furnished       1.0  Ahmedabad  \n",
       "2  1900.0     Unfurnished       3.0  Ahmedabad  \n",
       "3  1285.0  Semi-Furnished       2.0  Ahmedabad  \n",
       "4  1600.0       Furnished       2.0  Ahmedabad  "
      ]
     },
     "execution_count": 192,
     "metadata": {},
     "output_type": "execute_result"
    }
   ],
   "source": [
    "# check first 5 rows\n",
    "cr.head()"
   ]
  },
  {
   "cell_type": "code",
   "execution_count": 193,
   "id": "8bbe81a1",
   "metadata": {},
   "outputs": [
    {
     "data": {
      "text/html": [
       "<div>\n",
       "<style scoped>\n",
       "    .dataframe tbody tr th:only-of-type {\n",
       "        vertical-align: middle;\n",
       "    }\n",
       "\n",
       "    .dataframe tbody tr th {\n",
       "        vertical-align: top;\n",
       "    }\n",
       "\n",
       "    .dataframe thead th {\n",
       "        text-align: right;\n",
       "    }\n",
       "</style>\n",
       "<table border=\"1\" class=\"dataframe\">\n",
       "  <thead>\n",
       "    <tr style=\"text-align: right;\">\n",
       "      <th></th>\n",
       "      <th>seller_type</th>\n",
       "      <th>bedroom</th>\n",
       "      <th>layout_type</th>\n",
       "      <th>property_type</th>\n",
       "      <th>locality</th>\n",
       "      <th>price</th>\n",
       "      <th>area</th>\n",
       "      <th>furnish_type</th>\n",
       "      <th>bathroom</th>\n",
       "      <th>city</th>\n",
       "    </tr>\n",
       "  </thead>\n",
       "  <tbody>\n",
       "    <tr>\n",
       "      <th>193006</th>\n",
       "      <td>OWNER</td>\n",
       "      <td>1.0</td>\n",
       "      <td>BHK</td>\n",
       "      <td>Apartment</td>\n",
       "      <td>Chinchwad</td>\n",
       "      <td>13250.0</td>\n",
       "      <td>650.0</td>\n",
       "      <td>Semi-Furnished</td>\n",
       "      <td>1.0</td>\n",
       "      <td>Pune</td>\n",
       "    </tr>\n",
       "    <tr>\n",
       "      <th>193007</th>\n",
       "      <td>OWNER</td>\n",
       "      <td>1.0</td>\n",
       "      <td>RK</td>\n",
       "      <td>Studio Apartment</td>\n",
       "      <td>Wadgaon Sheri</td>\n",
       "      <td>7000.0</td>\n",
       "      <td>350.0</td>\n",
       "      <td>Unfurnished</td>\n",
       "      <td>1.0</td>\n",
       "      <td>Pune</td>\n",
       "    </tr>\n",
       "    <tr>\n",
       "      <th>193008</th>\n",
       "      <td>OWNER</td>\n",
       "      <td>1.0</td>\n",
       "      <td>BHK</td>\n",
       "      <td>Apartment</td>\n",
       "      <td>Kothrud</td>\n",
       "      <td>8500.0</td>\n",
       "      <td>389.0</td>\n",
       "      <td>Semi-Furnished</td>\n",
       "      <td>1.0</td>\n",
       "      <td>Pune</td>\n",
       "    </tr>\n",
       "    <tr>\n",
       "      <th>193009</th>\n",
       "      <td>AGENT</td>\n",
       "      <td>1.0</td>\n",
       "      <td>BHK</td>\n",
       "      <td>Apartment</td>\n",
       "      <td>Wakad</td>\n",
       "      <td>16500.0</td>\n",
       "      <td>670.0</td>\n",
       "      <td>Semi-Furnished</td>\n",
       "      <td>2.0</td>\n",
       "      <td>Pune</td>\n",
       "    </tr>\n",
       "    <tr>\n",
       "      <th>193010</th>\n",
       "      <td>AGENT</td>\n",
       "      <td>2.0</td>\n",
       "      <td>BHK</td>\n",
       "      <td>Apartment</td>\n",
       "      <td>Alandi</td>\n",
       "      <td>12000.0</td>\n",
       "      <td>800.0</td>\n",
       "      <td>Unfurnished</td>\n",
       "      <td>2.0</td>\n",
       "      <td>Pune</td>\n",
       "    </tr>\n",
       "  </tbody>\n",
       "</table>\n",
       "</div>"
      ],
      "text/plain": [
       "       seller_type  bedroom layout_type     property_type       locality  \\\n",
       "193006       OWNER      1.0         BHK         Apartment      Chinchwad   \n",
       "193007       OWNER      1.0          RK  Studio Apartment  Wadgaon Sheri   \n",
       "193008       OWNER      1.0         BHK         Apartment        Kothrud   \n",
       "193009       AGENT      1.0         BHK         Apartment          Wakad   \n",
       "193010       AGENT      2.0         BHK         Apartment         Alandi   \n",
       "\n",
       "          price   area    furnish_type  bathroom  city  \n",
       "193006  13250.0  650.0  Semi-Furnished       1.0  Pune  \n",
       "193007   7000.0  350.0     Unfurnished       1.0  Pune  \n",
       "193008   8500.0  389.0  Semi-Furnished       1.0  Pune  \n",
       "193009  16500.0  670.0  Semi-Furnished       2.0  Pune  \n",
       "193010  12000.0  800.0     Unfurnished       2.0  Pune  "
      ]
     },
     "execution_count": 193,
     "metadata": {},
     "output_type": "execute_result"
    }
   ],
   "source": [
    "# check last 5 rows\n",
    "cr.tail()"
   ]
  },
  {
   "cell_type": "code",
   "execution_count": 194,
   "id": "8e441dd9",
   "metadata": {},
   "outputs": [
    {
     "data": {
      "text/plain": [
       "(193011, 10)"
      ]
     },
     "execution_count": 194,
     "metadata": {},
     "output_type": "execute_result"
    }
   ],
   "source": [
    "# getting the shape of data set\n",
    "cr.shape"
   ]
  },
  {
   "cell_type": "code",
   "execution_count": 195,
   "id": "e4dc1c4b",
   "metadata": {},
   "outputs": [
    {
     "data": {
      "text/plain": [
       "Index(['seller_type', 'bedroom', 'layout_type', 'property_type', 'locality',\n",
       "       'price', 'area', 'furnish_type', 'bathroom', 'city'],\n",
       "      dtype='object')"
      ]
     },
     "execution_count": 195,
     "metadata": {},
     "output_type": "execute_result"
    }
   ],
   "source": [
    "# getting the attributes\n",
    "cr.columns"
   ]
  },
  {
   "cell_type": "code",
   "execution_count": 196,
   "id": "cc5eb429",
   "metadata": {
    "scrolled": true
   },
   "outputs": [
    {
     "data": {
      "text/plain": [
       "seller_type       object\n",
       "bedroom          float64\n",
       "layout_type       object\n",
       "property_type     object\n",
       "locality          object\n",
       "price            float64\n",
       "area             float64\n",
       "furnish_type      object\n",
       "bathroom         float64\n",
       "city              object\n",
       "dtype: object"
      ]
     },
     "execution_count": 196,
     "metadata": {},
     "output_type": "execute_result"
    }
   ],
   "source": [
    "# getting the data types\n",
    "cr.dtypes"
   ]
  },
  {
   "cell_type": "code",
   "execution_count": 197,
   "id": "400f0043",
   "metadata": {},
   "outputs": [
    {
     "name": "stdout",
     "output_type": "stream",
     "text": [
      "<class 'pandas.core.frame.DataFrame'>\n",
      "RangeIndex: 193011 entries, 0 to 193010\n",
      "Data columns (total 10 columns):\n",
      " #   Column         Non-Null Count   Dtype  \n",
      "---  ------         --------------   -----  \n",
      " 0   seller_type    193011 non-null  object \n",
      " 1   bedroom        193011 non-null  float64\n",
      " 2   layout_type    193011 non-null  object \n",
      " 3   property_type  193011 non-null  object \n",
      " 4   locality       193011 non-null  object \n",
      " 5   price          193011 non-null  float64\n",
      " 6   area           193011 non-null  float64\n",
      " 7   furnish_type   193011 non-null  object \n",
      " 8   bathroom       193011 non-null  float64\n",
      " 9   city           193011 non-null  object \n",
      "dtypes: float64(4), object(6)\n",
      "memory usage: 14.7+ MB\n"
     ]
    }
   ],
   "source": [
    "# getting the information about the dataframe\n",
    "cr.info()"
   ]
  },
  {
   "cell_type": "code",
   "execution_count": 198,
   "id": "1fd5d060",
   "metadata": {},
   "outputs": [
    {
     "data": {
      "text/html": [
       "<div>\n",
       "<style scoped>\n",
       "    .dataframe tbody tr th:only-of-type {\n",
       "        vertical-align: middle;\n",
       "    }\n",
       "\n",
       "    .dataframe tbody tr th {\n",
       "        vertical-align: top;\n",
       "    }\n",
       "\n",
       "    .dataframe thead th {\n",
       "        text-align: right;\n",
       "    }\n",
       "</style>\n",
       "<table border=\"1\" class=\"dataframe\">\n",
       "  <thead>\n",
       "    <tr style=\"text-align: right;\">\n",
       "      <th></th>\n",
       "      <th>bedroom</th>\n",
       "      <th>price</th>\n",
       "      <th>area</th>\n",
       "      <th>bathroom</th>\n",
       "    </tr>\n",
       "  </thead>\n",
       "  <tbody>\n",
       "    <tr>\n",
       "      <th>count</th>\n",
       "      <td>193011.000000</td>\n",
       "      <td>1.930110e+05</td>\n",
       "      <td>193011.000000</td>\n",
       "      <td>193011.000000</td>\n",
       "    </tr>\n",
       "    <tr>\n",
       "      <th>mean</th>\n",
       "      <td>2.081679</td>\n",
       "      <td>4.433654e+04</td>\n",
       "      <td>1264.604468</td>\n",
       "      <td>2.059883</td>\n",
       "    </tr>\n",
       "    <tr>\n",
       "      <th>std</th>\n",
       "      <td>0.956901</td>\n",
       "      <td>9.195199e+04</td>\n",
       "      <td>1043.725561</td>\n",
       "      <td>0.934805</td>\n",
       "    </tr>\n",
       "    <tr>\n",
       "      <th>min</th>\n",
       "      <td>1.000000</td>\n",
       "      <td>1.200000e+03</td>\n",
       "      <td>3.000000</td>\n",
       "      <td>1.000000</td>\n",
       "    </tr>\n",
       "    <tr>\n",
       "      <th>25%</th>\n",
       "      <td>1.000000</td>\n",
       "      <td>1.300000e+04</td>\n",
       "      <td>650.000000</td>\n",
       "      <td>1.000000</td>\n",
       "    </tr>\n",
       "    <tr>\n",
       "      <th>50%</th>\n",
       "      <td>2.000000</td>\n",
       "      <td>2.100000e+04</td>\n",
       "      <td>1000.000000</td>\n",
       "      <td>2.000000</td>\n",
       "    </tr>\n",
       "    <tr>\n",
       "      <th>75%</th>\n",
       "      <td>3.000000</td>\n",
       "      <td>3.600000e+04</td>\n",
       "      <td>1440.000000</td>\n",
       "      <td>3.000000</td>\n",
       "    </tr>\n",
       "    <tr>\n",
       "      <th>max</th>\n",
       "      <td>15.000000</td>\n",
       "      <td>5.885000e+06</td>\n",
       "      <td>19800.000000</td>\n",
       "      <td>19.000000</td>\n",
       "    </tr>\n",
       "  </tbody>\n",
       "</table>\n",
       "</div>"
      ],
      "text/plain": [
       "             bedroom         price           area       bathroom\n",
       "count  193011.000000  1.930110e+05  193011.000000  193011.000000\n",
       "mean        2.081679  4.433654e+04    1264.604468       2.059883\n",
       "std         0.956901  9.195199e+04    1043.725561       0.934805\n",
       "min         1.000000  1.200000e+03       3.000000       1.000000\n",
       "25%         1.000000  1.300000e+04     650.000000       1.000000\n",
       "50%         2.000000  2.100000e+04    1000.000000       2.000000\n",
       "75%         3.000000  3.600000e+04    1440.000000       3.000000\n",
       "max        15.000000  5.885000e+06   19800.000000      19.000000"
      ]
     },
     "execution_count": 198,
     "metadata": {},
     "output_type": "execute_result"
    }
   ],
   "source": [
    "# getting the statistical values for all numeric values\n",
    "cr.describe()"
   ]
  },
  {
   "cell_type": "code",
   "execution_count": 199,
   "id": "c3f24e82",
   "metadata": {},
   "outputs": [
    {
     "data": {
      "text/html": [
       "<div>\n",
       "<style scoped>\n",
       "    .dataframe tbody tr th:only-of-type {\n",
       "        vertical-align: middle;\n",
       "    }\n",
       "\n",
       "    .dataframe tbody tr th {\n",
       "        vertical-align: top;\n",
       "    }\n",
       "\n",
       "    .dataframe thead th {\n",
       "        text-align: right;\n",
       "    }\n",
       "</style>\n",
       "<table border=\"1\" class=\"dataframe\">\n",
       "  <thead>\n",
       "    <tr style=\"text-align: right;\">\n",
       "      <th></th>\n",
       "      <th>seller_type</th>\n",
       "      <th>bedroom</th>\n",
       "      <th>layout_type</th>\n",
       "      <th>property_type</th>\n",
       "      <th>locality</th>\n",
       "      <th>price</th>\n",
       "      <th>area</th>\n",
       "      <th>furnish_type</th>\n",
       "      <th>bathroom</th>\n",
       "      <th>city</th>\n",
       "    </tr>\n",
       "  </thead>\n",
       "  <tbody>\n",
       "    <tr>\n",
       "      <th>88876</th>\n",
       "      <td>AGENT</td>\n",
       "      <td>2.0</td>\n",
       "      <td>BHK</td>\n",
       "      <td>Independent House</td>\n",
       "      <td>Gopalnagar Society</td>\n",
       "      <td>21150.0</td>\n",
       "      <td>3.0</td>\n",
       "      <td>Semi-Furnished</td>\n",
       "      <td>2.0</td>\n",
       "      <td>Hyderabad</td>\n",
       "    </tr>\n",
       "  </tbody>\n",
       "</table>\n",
       "</div>"
      ],
      "text/plain": [
       "      seller_type  bedroom layout_type      property_type            locality  \\\n",
       "88876       AGENT      2.0         BHK  Independent House  Gopalnagar Society   \n",
       "\n",
       "         price  area    furnish_type  bathroom       city  \n",
       "88876  21150.0   3.0  Semi-Furnished       2.0  Hyderabad  "
      ]
     },
     "execution_count": 199,
     "metadata": {},
     "output_type": "execute_result"
    }
   ],
   "source": [
    "cr[cr['area']==3]"
   ]
  },
  {
   "cell_type": "code",
   "execution_count": 200,
   "id": "40e538be",
   "metadata": {},
   "outputs": [],
   "source": [
    "cr= cr.drop(index=88876)"
   ]
  },
  {
   "cell_type": "code",
   "execution_count": 201,
   "id": "09bb6834",
   "metadata": {},
   "outputs": [
    {
     "data": {
      "text/html": [
       "<div>\n",
       "<style scoped>\n",
       "    .dataframe tbody tr th:only-of-type {\n",
       "        vertical-align: middle;\n",
       "    }\n",
       "\n",
       "    .dataframe tbody tr th {\n",
       "        vertical-align: top;\n",
       "    }\n",
       "\n",
       "    .dataframe thead th {\n",
       "        text-align: right;\n",
       "    }\n",
       "</style>\n",
       "<table border=\"1\" class=\"dataframe\">\n",
       "  <thead>\n",
       "    <tr style=\"text-align: right;\">\n",
       "      <th></th>\n",
       "      <th>bedroom</th>\n",
       "      <th>price</th>\n",
       "      <th>area</th>\n",
       "      <th>bathroom</th>\n",
       "    </tr>\n",
       "  </thead>\n",
       "  <tbody>\n",
       "    <tr>\n",
       "      <th>count</th>\n",
       "      <td>193010.000000</td>\n",
       "      <td>1.930100e+05</td>\n",
       "      <td>193010.000000</td>\n",
       "      <td>193010.000000</td>\n",
       "    </tr>\n",
       "    <tr>\n",
       "      <th>mean</th>\n",
       "      <td>2.081680</td>\n",
       "      <td>4.433666e+04</td>\n",
       "      <td>1264.611005</td>\n",
       "      <td>2.059883</td>\n",
       "    </tr>\n",
       "    <tr>\n",
       "      <th>std</th>\n",
       "      <td>0.956903</td>\n",
       "      <td>9.195221e+04</td>\n",
       "      <td>1043.724314</td>\n",
       "      <td>0.934808</td>\n",
       "    </tr>\n",
       "    <tr>\n",
       "      <th>min</th>\n",
       "      <td>1.000000</td>\n",
       "      <td>1.200000e+03</td>\n",
       "      <td>100.000000</td>\n",
       "      <td>1.000000</td>\n",
       "    </tr>\n",
       "    <tr>\n",
       "      <th>25%</th>\n",
       "      <td>1.000000</td>\n",
       "      <td>1.300000e+04</td>\n",
       "      <td>650.000000</td>\n",
       "      <td>1.000000</td>\n",
       "    </tr>\n",
       "    <tr>\n",
       "      <th>50%</th>\n",
       "      <td>2.000000</td>\n",
       "      <td>2.100000e+04</td>\n",
       "      <td>1000.000000</td>\n",
       "      <td>2.000000</td>\n",
       "    </tr>\n",
       "    <tr>\n",
       "      <th>75%</th>\n",
       "      <td>3.000000</td>\n",
       "      <td>3.600000e+04</td>\n",
       "      <td>1440.000000</td>\n",
       "      <td>3.000000</td>\n",
       "    </tr>\n",
       "    <tr>\n",
       "      <th>max</th>\n",
       "      <td>15.000000</td>\n",
       "      <td>5.885000e+06</td>\n",
       "      <td>19800.000000</td>\n",
       "      <td>19.000000</td>\n",
       "    </tr>\n",
       "  </tbody>\n",
       "</table>\n",
       "</div>"
      ],
      "text/plain": [
       "             bedroom         price           area       bathroom\n",
       "count  193010.000000  1.930100e+05  193010.000000  193010.000000\n",
       "mean        2.081680  4.433666e+04    1264.611005       2.059883\n",
       "std         0.956903  9.195221e+04    1043.724314       0.934808\n",
       "min         1.000000  1.200000e+03     100.000000       1.000000\n",
       "25%         1.000000  1.300000e+04     650.000000       1.000000\n",
       "50%         2.000000  2.100000e+04    1000.000000       2.000000\n",
       "75%         3.000000  3.600000e+04    1440.000000       3.000000\n",
       "max        15.000000  5.885000e+06   19800.000000      19.000000"
      ]
     },
     "execution_count": 201,
     "metadata": {},
     "output_type": "execute_result"
    }
   ],
   "source": [
    "cr.describe()"
   ]
  },
  {
   "cell_type": "markdown",
   "id": "72723832",
   "metadata": {},
   "source": [
    "<h3><font color = \"blue\">Checking Duplicate values</font>"
   ]
  },
  {
   "cell_type": "code",
   "execution_count": 202,
   "id": "448a0ccf",
   "metadata": {},
   "outputs": [
    {
     "name": "stdout",
     "output_type": "stream",
     "text": [
      "85398\n"
     ]
    },
    {
     "data": {
      "text/html": [
       "<div>\n",
       "<style scoped>\n",
       "    .dataframe tbody tr th:only-of-type {\n",
       "        vertical-align: middle;\n",
       "    }\n",
       "\n",
       "    .dataframe tbody tr th {\n",
       "        vertical-align: top;\n",
       "    }\n",
       "\n",
       "    .dataframe thead th {\n",
       "        text-align: right;\n",
       "    }\n",
       "</style>\n",
       "<table border=\"1\" class=\"dataframe\">\n",
       "  <thead>\n",
       "    <tr style=\"text-align: right;\">\n",
       "      <th></th>\n",
       "      <th>seller_type</th>\n",
       "      <th>bedroom</th>\n",
       "      <th>layout_type</th>\n",
       "      <th>property_type</th>\n",
       "      <th>locality</th>\n",
       "      <th>price</th>\n",
       "      <th>area</th>\n",
       "      <th>furnish_type</th>\n",
       "      <th>bathroom</th>\n",
       "      <th>city</th>\n",
       "    </tr>\n",
       "  </thead>\n",
       "  <tbody>\n",
       "    <tr>\n",
       "      <th>98</th>\n",
       "      <td>OWNER</td>\n",
       "      <td>2.0</td>\n",
       "      <td>BHK</td>\n",
       "      <td>Independent House</td>\n",
       "      <td>Sanand</td>\n",
       "      <td>13000.0</td>\n",
       "      <td>1285.0</td>\n",
       "      <td>Semi-Furnished</td>\n",
       "      <td>2.0</td>\n",
       "      <td>Ahmedabad</td>\n",
       "    </tr>\n",
       "    <tr>\n",
       "      <th>100</th>\n",
       "      <td>OWNER</td>\n",
       "      <td>2.0</td>\n",
       "      <td>BHK</td>\n",
       "      <td>Apartment</td>\n",
       "      <td>Shahibuag</td>\n",
       "      <td>13000.0</td>\n",
       "      <td>1126.0</td>\n",
       "      <td>Semi-Furnished</td>\n",
       "      <td>2.0</td>\n",
       "      <td>Ahmedabad</td>\n",
       "    </tr>\n",
       "    <tr>\n",
       "      <th>126</th>\n",
       "      <td>AGENT</td>\n",
       "      <td>4.0</td>\n",
       "      <td>BHK</td>\n",
       "      <td>Apartment</td>\n",
       "      <td>Jodhpur</td>\n",
       "      <td>55000.0</td>\n",
       "      <td>1800.0</td>\n",
       "      <td>Furnished</td>\n",
       "      <td>3.0</td>\n",
       "      <td>Ahmedabad</td>\n",
       "    </tr>\n",
       "    <tr>\n",
       "      <th>127</th>\n",
       "      <td>AGENT</td>\n",
       "      <td>4.0</td>\n",
       "      <td>BHK</td>\n",
       "      <td>Apartment</td>\n",
       "      <td>Jodhpur</td>\n",
       "      <td>55000.0</td>\n",
       "      <td>1800.0</td>\n",
       "      <td>Furnished</td>\n",
       "      <td>3.0</td>\n",
       "      <td>Ahmedabad</td>\n",
       "    </tr>\n",
       "    <tr>\n",
       "      <th>128</th>\n",
       "      <td>AGENT</td>\n",
       "      <td>4.0</td>\n",
       "      <td>BHK</td>\n",
       "      <td>Apartment</td>\n",
       "      <td>Jodhpur</td>\n",
       "      <td>55000.0</td>\n",
       "      <td>1800.0</td>\n",
       "      <td>Furnished</td>\n",
       "      <td>3.0</td>\n",
       "      <td>Ahmedabad</td>\n",
       "    </tr>\n",
       "    <tr>\n",
       "      <th>...</th>\n",
       "      <td>...</td>\n",
       "      <td>...</td>\n",
       "      <td>...</td>\n",
       "      <td>...</td>\n",
       "      <td>...</td>\n",
       "      <td>...</td>\n",
       "      <td>...</td>\n",
       "      <td>...</td>\n",
       "      <td>...</td>\n",
       "      <td>...</td>\n",
       "    </tr>\n",
       "    <tr>\n",
       "      <th>192983</th>\n",
       "      <td>OWNER</td>\n",
       "      <td>2.0</td>\n",
       "      <td>BHK</td>\n",
       "      <td>Apartment</td>\n",
       "      <td>Wanowrie</td>\n",
       "      <td>30000.0</td>\n",
       "      <td>1200.0</td>\n",
       "      <td>Furnished</td>\n",
       "      <td>2.0</td>\n",
       "      <td>Pune</td>\n",
       "    </tr>\n",
       "    <tr>\n",
       "      <th>192984</th>\n",
       "      <td>OWNER</td>\n",
       "      <td>2.0</td>\n",
       "      <td>BHK</td>\n",
       "      <td>Apartment</td>\n",
       "      <td>Wakad</td>\n",
       "      <td>19000.0</td>\n",
       "      <td>1004.0</td>\n",
       "      <td>Semi-Furnished</td>\n",
       "      <td>2.0</td>\n",
       "      <td>Pune</td>\n",
       "    </tr>\n",
       "    <tr>\n",
       "      <th>192985</th>\n",
       "      <td>OWNER</td>\n",
       "      <td>1.0</td>\n",
       "      <td>BHK</td>\n",
       "      <td>Independent Floor</td>\n",
       "      <td>Katraj</td>\n",
       "      <td>10000.0</td>\n",
       "      <td>516.0</td>\n",
       "      <td>Unfurnished</td>\n",
       "      <td>1.0</td>\n",
       "      <td>Pune</td>\n",
       "    </tr>\n",
       "    <tr>\n",
       "      <th>192986</th>\n",
       "      <td>OWNER</td>\n",
       "      <td>2.0</td>\n",
       "      <td>BHK</td>\n",
       "      <td>Apartment</td>\n",
       "      <td>Baner</td>\n",
       "      <td>20000.0</td>\n",
       "      <td>1178.0</td>\n",
       "      <td>Semi-Furnished</td>\n",
       "      <td>2.0</td>\n",
       "      <td>Pune</td>\n",
       "    </tr>\n",
       "    <tr>\n",
       "      <th>192990</th>\n",
       "      <td>OWNER</td>\n",
       "      <td>2.0</td>\n",
       "      <td>BHK</td>\n",
       "      <td>Apartment</td>\n",
       "      <td>Wagholi</td>\n",
       "      <td>12000.0</td>\n",
       "      <td>1000.0</td>\n",
       "      <td>Unfurnished</td>\n",
       "      <td>2.0</td>\n",
       "      <td>Pune</td>\n",
       "    </tr>\n",
       "  </tbody>\n",
       "</table>\n",
       "<p>85398 rows × 10 columns</p>\n",
       "</div>"
      ],
      "text/plain": [
       "       seller_type  bedroom layout_type      property_type   locality  \\\n",
       "98           OWNER      2.0         BHK  Independent House     Sanand   \n",
       "100          OWNER      2.0         BHK          Apartment  Shahibuag   \n",
       "126          AGENT      4.0         BHK          Apartment    Jodhpur   \n",
       "127          AGENT      4.0         BHK          Apartment    Jodhpur   \n",
       "128          AGENT      4.0         BHK          Apartment    Jodhpur   \n",
       "...            ...      ...         ...                ...        ...   \n",
       "192983       OWNER      2.0         BHK          Apartment   Wanowrie   \n",
       "192984       OWNER      2.0         BHK          Apartment      Wakad   \n",
       "192985       OWNER      1.0         BHK  Independent Floor     Katraj   \n",
       "192986       OWNER      2.0         BHK          Apartment      Baner   \n",
       "192990       OWNER      2.0         BHK          Apartment    Wagholi   \n",
       "\n",
       "          price    area    furnish_type  bathroom       city  \n",
       "98      13000.0  1285.0  Semi-Furnished       2.0  Ahmedabad  \n",
       "100     13000.0  1126.0  Semi-Furnished       2.0  Ahmedabad  \n",
       "126     55000.0  1800.0       Furnished       3.0  Ahmedabad  \n",
       "127     55000.0  1800.0       Furnished       3.0  Ahmedabad  \n",
       "128     55000.0  1800.0       Furnished       3.0  Ahmedabad  \n",
       "...         ...     ...             ...       ...        ...  \n",
       "192983  30000.0  1200.0       Furnished       2.0       Pune  \n",
       "192984  19000.0  1004.0  Semi-Furnished       2.0       Pune  \n",
       "192985  10000.0   516.0     Unfurnished       1.0       Pune  \n",
       "192986  20000.0  1178.0  Semi-Furnished       2.0       Pune  \n",
       "192990  12000.0  1000.0     Unfurnished       2.0       Pune  \n",
       "\n",
       "[85398 rows x 10 columns]"
      ]
     },
     "execution_count": 202,
     "metadata": {},
     "output_type": "execute_result"
    }
   ],
   "source": [
    "# getting the duplicate values\n",
    "duplicate=cr.duplicated()\n",
    "print(duplicate.sum())\n",
    "cr[duplicate]"
   ]
  },
  {
   "cell_type": "markdown",
   "id": "b08473e3",
   "metadata": {},
   "source": [
    "<h3><font color = \"red\">Removing Duplicate Values</font>"
   ]
  },
  {
   "cell_type": "code",
   "execution_count": 203,
   "id": "27847847",
   "metadata": {},
   "outputs": [],
   "source": [
    "# removing duplicated values\n",
    "cr.drop_duplicates(inplace=True)"
   ]
  },
  {
   "cell_type": "code",
   "execution_count": 204,
   "id": "f8adb0b2",
   "metadata": {},
   "outputs": [
    {
     "data": {
      "text/plain": [
       "(107612, 10)"
      ]
     },
     "execution_count": 204,
     "metadata": {},
     "output_type": "execute_result"
    }
   ],
   "source": [
    "# checking the shape of dataframe\n",
    "cr.shape"
   ]
  },
  {
   "cell_type": "code",
   "execution_count": 205,
   "id": "a771af72",
   "metadata": {},
   "outputs": [
    {
     "data": {
      "text/plain": [
       "0"
      ]
     },
     "execution_count": 205,
     "metadata": {},
     "output_type": "execute_result"
    }
   ],
   "source": [
    "# now checking the duplicate values\n",
    "cr.duplicated().sum()"
   ]
  },
  {
   "cell_type": "markdown",
   "id": "08754d23",
   "metadata": {},
   "source": [
    "<h3><font color = \"blue\">Handling Outliers</font>\n"
   ]
  },
  {
   "cell_type": "code",
   "execution_count": 206,
   "id": "b8a24aee",
   "metadata": {},
   "outputs": [
    {
     "data": {
      "image/png": "[encoded data removed]",
      "text/plain": [
       "<Figure size 1440x1008 with 4 Axes>"
      ]
     },
     "metadata": {
      "needs_background": "light"
     },
     "output_type": "display_data"
    }
   ],
   "source": [
    "fig = plt.figure(figsize=(20,14))\n",
    "plt.subplot(231)\n",
    "cr.boxplot(column=[\"price\"])\n",
    "\n",
    "\n",
    "plt.subplot(2,3,2)\n",
    "cr.boxplot(column=[\"area\"])\n",
    "\n",
    "\n",
    "plt.subplot(233)\n",
    "cr.boxplot(column=[\"bathroom\"])\n",
    "\n",
    "\n",
    "plt.subplot(2,3,4)\n",
    "cr.boxplot(column=[\"bedroom\"])\n",
    "plt.show()"
   ]
  },
  {
   "cell_type": "markdown",
   "id": "b209bacc",
   "metadata": {},
   "source": [
    "<h3><font color = \"red\">Removing Outliers</font>"
   ]
  },
  {
   "cell_type": "code",
   "execution_count": 207,
   "id": "0a4e7418",
   "metadata": {},
   "outputs": [],
   "source": [
    "#removing outliers(price)\n",
    "def RemoveOutlier(col):\n",
    "    sorted(col)\n",
    "    q1, q3 = col.quantile([0.25,0.75])\n",
    "    IQR = q3-q1\n",
    "    lower_range = q1-(1.5*IQR)\n",
    "    upper_range = q3+(1.5*IQR)\n",
    "    return lower_range, upper_range\n",
    "\n",
    "lowprice, highprice = RemoveOutlier(cr['price'])\n",
    "cr['price'] = np.where(cr['price']>highprice, highprice, cr['price'])\n",
    "cr['price'] = np.where(cr['price']<lowprice, lowprice, cr['price'])\n",
    "\n",
    "\n",
    "# removing outliers(area)\n",
    "def RemoveOutlier(col):\n",
    "    sorted(col)\n",
    "    q1, q3 = col.quantile([0.25,0.75])\n",
    "    IQR = q3-q1\n",
    "    lower_range = q1-(1.5*IQR)\n",
    "    upper_range = q3+(1.5*IQR)\n",
    "    return lower_range, upper_range\n",
    "\n",
    "lowarea, higharea = RemoveOutlier(cr['area'])\n",
    "cr['area'] = np.where(cr['area']>higharea, higharea, cr['area'])\n",
    "cr['area'] = np.where(cr['area']<lowarea, lowarea, cr['area'])\n",
    "# removing outliers(bathroom)\n",
    "\n",
    "def RemoveOutlier(col):\n",
    "    sorted(col)\n",
    "    q1, q3 = col.quantile([0.25,0.75])\n",
    "    IQR = q3-q1\n",
    "    lower_range = q1-(1.5*IQR)\n",
    "    upper_range = q3+(1.5*IQR)\n",
    "    return lower_range, upper_range\n",
    "\n",
    "lowcount, highcount = RemoveOutlier(cr['bathroom'])\n",
    "cr['bathroom'] = np.where(cr['bathroom']>highcount, highcount ,cr['bathroom'])\n",
    "cr['bathroom'] = np.where(cr['bathroom']<lowcount, lowcount, cr['bathroom'])\n",
    "\n",
    "# removing outliers(bedroom)\n",
    "def RemoveOutlier(col):\n",
    "    sorted(col)\n",
    "    q1, q3 = col.quantile([0.25,0.75])\n",
    "    IQR = q3-q1\n",
    "    lower_range = q1-(1.5*IQR)\n",
    "    upper_range = q3+(1.5*IQR)\n",
    "    return lower_range, upper_range\n",
    "\n",
    "lowcount, highcount = RemoveOutlier(cr['bedroom'])\n",
    "cr['bedroom'] = np.where(cr['bedroom']>highcount, highcount ,cr['bedroom'])\n",
    "cr['bedroom'] = np.where(cr['bedroom']<lowcount, lowcount, cr['bedroom'])\n"
   ]
  },
  {
   "cell_type": "code",
   "execution_count": 208,
   "id": "526de04e",
   "metadata": {},
   "outputs": [
    {
     "data": {
      "image/png": "[encoded data removed]",
      "text/plain": [
       "<Figure size 1440x1008 with 4 Axes>"
      ]
     },
     "metadata": {
      "needs_background": "light"
     },
     "output_type": "display_data"
    }
   ],
   "source": [
    "fig = plt.figure(figsize=(20,14))\n",
    "plt.subplot(231)\n",
    "cr.boxplot(column=[\"price\"])\n",
    "\n",
    "\n",
    "plt.subplot(2,3,2)\n",
    "cr.boxplot(column=[\"area\"])\n",
    "\n",
    "\n",
    "plt.subplot(233)\n",
    "cr.boxplot(column=[\"bathroom\"])\n",
    "\n",
    "\n",
    "plt.subplot(2,3,4)\n",
    "cr.boxplot(column=[\"bedroom\"])\n",
    "plt.show()"
   ]
  },
  {
   "cell_type": "markdown",
   "id": "c9b8f23d",
   "metadata": {},
   "source": [
    "<b><font color=\"red\">Note</font></b> : This dataset has no null values and duplicate values now. So further processing will not be done such as replacing or deleting a null rows. So data is ready for traning, before training we visualise the data."
   ]
  },
  {
   "cell_type": "markdown",
   "id": "b5d199da",
   "metadata": {},
   "source": [
    "### EXPLORATORY DATA ANALYSIS"
   ]
  },
  {
   "cell_type": "markdown",
   "id": "a503f2f4",
   "metadata": {},
   "source": [
    "<h3><font color = \"orange\">Count Plots</font>"
   ]
  },
  {
   "cell_type": "markdown",
   "id": "75bbb4ff",
   "metadata": {},
   "source": [
    "Show the counts of observations in each categorical bin using bars."
   ]
  },
  {
   "cell_type": "code",
   "execution_count": 209,
   "id": "791663f3",
   "metadata": {},
   "outputs": [
    {
     "data": {
      "image/png": "[encoded data removed]",
      "text/plain": [
       "<Figure size 1440x1008 with 6 Axes>"
      ]
     },
     "metadata": {
      "needs_background": "light"
     },
     "output_type": "display_data"
    }
   ],
   "source": [
    "fig = plt.figure(figsize=(20,14))\n",
    "\n",
    "#  subplot #1\n",
    "plt.subplot(231)\n",
    "plt.title('SELLER TYPE')\n",
    "sns.countplot(data = cr, x='seller_type')\n",
    "\n",
    "#  subplot #2\n",
    "plt.subplot(2,3,2)\n",
    "plt.title('BEDROOMS')\n",
    "sns.countplot(data = cr, x='bedroom')\n",
    "\n",
    "#  subplot #3\n",
    "plt.subplot(233)\n",
    "plt.title('LAYOUT TYPE')\n",
    "sns.countplot(data = cr, x='layout_type')\n",
    "\n",
    "#  subplot #4\n",
    "plt.subplot(2,3,4)\n",
    "plt.title('PROPERTY TYPE')\n",
    "plt.legend(cr['property_type'].values)\n",
    "sns.countplot(data = cr, x='property_type',hue ='property_type')\n",
    "\n",
    "# subplot #5\n",
    "plt.subplot(235)\n",
    "plt.title('FURNISH TYPE')\n",
    "sns.countplot(data = cr, x='furnish_type')\n",
    "\n",
    "# subplot #6\n",
    "plt.subplot(2,3,6)\n",
    "plt.title('BATHROOM')\n",
    "sns.countplot(data = cr, x='bathroom')\n",
    "\n",
    "\n",
    "plt.show()"
   ]
  },
  {
   "cell_type": "code",
   "execution_count": 210,
   "id": "6a2cc698",
   "metadata": {},
   "outputs": [
    {
     "data": {
      "image/png": "[encoded data removed]",
      "text/plain": [
       "<Figure size 360x360 with 1 Axes>"
      ]
     },
     "metadata": {
      "needs_background": "light"
     },
     "output_type": "display_data"
    }
   ],
   "source": [
    "sns.catplot(x='city',y='price',data=cr)\n",
    "plt.show()"
   ]
  },
  {
   "cell_type": "code",
   "execution_count": 211,
   "id": "6a3b2e43",
   "metadata": {},
   "outputs": [],
   "source": [
    "# sns.catplot(x='price',y='area',data=cr)\n",
    "# plt.show()"
   ]
  },
  {
   "cell_type": "code",
   "execution_count": 212,
   "id": "c6e69e6a",
   "metadata": {},
   "outputs": [
    {
     "data": {
      "image/png": "[encoded data removed]",
      "text/plain": [
       "<Figure size 432x288 with 1 Axes>"
      ]
     },
     "metadata": {
      "needs_background": "light"
     },
     "output_type": "display_data"
    }
   ],
   "source": [
    "plt.title('CITY')\n",
    "sns.countplot(data = cr, x='city')\n",
    "plt.show()"
   ]
  },
  {
   "cell_type": "markdown",
   "id": "eed5b8db",
   "metadata": {},
   "source": [
    "From the above plots we can see that\n",
    "1. Most of the houses are sold by agents\n",
    "2. Many houses having the count of 2 bathrooms and 2 bedrooms\n",
    "3. Many houses are BHK compared to RK\n",
    "4. Independent floor property type has most count compared to other property types\n",
    "5. Compared to other cities mumbai has more number of houses for rent"
   ]
  },
  {
   "cell_type": "code",
   "execution_count": 213,
   "id": "d0ae135a",
   "metadata": {},
   "outputs": [
    {
     "data": {
      "text/plain": [
       "count    107612.000000\n",
       "mean       1158.681792\n",
       "std         632.698494\n",
       "min         100.000000\n",
       "25%         650.000000\n",
       "50%        1000.000000\n",
       "75%        1450.000000\n",
       "max        2650.000000\n",
       "Name: area, dtype: float64"
      ]
     },
     "execution_count": 213,
     "metadata": {},
     "output_type": "execute_result"
    }
   ],
   "source": [
    "#getting statistical values for area\n",
    "cr['area'].describe()"
   ]
  },
  {
   "cell_type": "code",
   "execution_count": 214,
   "id": "8b0128a4",
   "metadata": {},
   "outputs": [
    {
     "data": {
      "text/plain": [
       "count    107612.000000\n",
       "mean      28316.928028\n",
       "std       20914.773562\n",
       "min        1200.000000\n",
       "25%       13000.000000\n",
       "50%       20100.000000\n",
       "75%       37000.000000\n",
       "max       73000.000000\n",
       "Name: price, dtype: float64"
      ]
     },
     "execution_count": 214,
     "metadata": {},
     "output_type": "execute_result"
    }
   ],
   "source": [
    "#getting statistical values for price\n",
    "cr['price'].describe()"
   ]
  },
  {
   "cell_type": "code",
   "execution_count": 215,
   "id": "c8667f56",
   "metadata": {},
   "outputs": [
    {
     "data": {
      "text/plain": [
       "count    107612.000000\n",
       "mean          2.097731\n",
       "std           0.951057\n",
       "min           1.000000\n",
       "25%           1.000000\n",
       "50%           2.000000\n",
       "75%           3.000000\n",
       "max           6.000000\n",
       "Name: bedroom, dtype: float64"
      ]
     },
     "execution_count": 215,
     "metadata": {},
     "output_type": "execute_result"
    }
   ],
   "source": [
    "#getting statistical values for bedroom\n",
    "cr['bedroom'].describe()"
   ]
  },
  {
   "cell_type": "code",
   "execution_count": 216,
   "id": "5e605a9d",
   "metadata": {},
   "outputs": [
    {
     "data": {
      "text/plain": [
       "count    107612.000000\n",
       "mean          2.065067\n",
       "std           0.939829\n",
       "min           1.000000\n",
       "25%           1.000000\n",
       "50%           2.000000\n",
       "75%           3.000000\n",
       "max           6.000000\n",
       "Name: bathroom, dtype: float64"
      ]
     },
     "execution_count": 216,
     "metadata": {},
     "output_type": "execute_result"
    }
   ],
   "source": [
    "#getting statistical values for bathroom\n",
    "cr['bathroom'].describe()"
   ]
  },
  {
   "cell_type": "markdown",
   "id": "c4efb390",
   "metadata": {},
   "source": [
    "<h3><font color = \"orange\">Histograms</font>"
   ]
  },
  {
   "cell_type": "markdown",
   "id": "359cd402",
   "metadata": {},
   "source": [
    "A histogram is basically used to represent data provided in a form of some groups.It is accurate method for the graphical representation of numerical data distribution.It is a type of bar plot where X-axis represents the bin ranges while Y-axis gives information about frequency."
   ]
  },
  {
   "cell_type": "code",
   "execution_count": 217,
   "id": "72957c45",
   "metadata": {},
   "outputs": [
    {
     "data": {
      "text/plain": [
       "array([[<AxesSubplot:title={'center':'bedroom'}>,\n",
       "        <AxesSubplot:title={'center':'price'}>],\n",
       "       [<AxesSubplot:title={'center':'area'}>,\n",
       "        <AxesSubplot:title={'center':'bathroom'}>]], dtype=object)"
      ]
     },
     "execution_count": 217,
     "metadata": {},
     "output_type": "execute_result"
    },
    {
     "data": {
      "image/png": "[encoded data removed]",
      "text/plain": [
       "<Figure size 1440x1440 with 4 Axes>"
      ]
     },
     "metadata": {
      "needs_background": "light"
     },
     "output_type": "display_data"
    }
   ],
   "source": [
    "#Plotting histograms for all numerical attributes in a dataset\n",
    "cr.hist(bins = 5,figsize=(20,20))\n"
   ]
  },
  {
   "cell_type": "markdown",
   "id": "bff81eb9",
   "metadata": {},
   "source": [
    "<h3><font color = \"orange\">Bar Plots</font>"
   ]
  },
  {
   "cell_type": "markdown",
   "id": "37b2abea",
   "metadata": {},
   "source": [
    " A bar chart describes the comparisons between the discrete categories. One of the axis of the plot represents the specific categories being compared, while the other axis represents the measured values corresponding to those categories."
   ]
  },
  {
   "cell_type": "markdown",
   "id": "1001126d",
   "metadata": {},
   "source": [
    "<h5><font color=\"darkblue\"> Seller Type vs other numerical attributes</font>"
   ]
  },
  {
   "cell_type": "code",
   "execution_count": 218,
   "id": "63319698",
   "metadata": {},
   "outputs": [
    {
     "data": {
      "image/png": "[encoded data removed]",
      "text/plain": [
       "<Figure size 1440x1008 with 4 Axes>"
      ]
     },
     "metadata": {
      "needs_background": "light"
     },
     "output_type": "display_data"
    }
   ],
   "source": [
    "fig = plt.figure(figsize=(20,14))\n",
    "\n",
    "\n",
    "plt.subplot(231)\n",
    "plt.grid()\n",
    "plt.title('Seller Type and Area')\n",
    "sns.barplot(x=\"seller_type\", y=\"area\", data=cr).set_facecolor(\"Lavender\")\n",
    "\n",
    "plt.subplot(2,3,2)\n",
    "plt.grid()\n",
    "plt.title('Seller Type and Price')\n",
    "sns.barplot(x=\"seller_type\", y=\"price\", data=cr).set_facecolor(\"LemonChiffon\")\n",
    "\n",
    "plt.subplot(233)\n",
    "plt.grid()\n",
    "plt.title('Seller Type and Bathroon')\n",
    "sns.barplot(x=\"seller_type\", y=\"bathroom\", data=cr).set_facecolor(\"whitesmoke\")\n",
    "\n",
    "plt.subplot(2,3,4)\n",
    "plt.grid()\n",
    "plt.title('Seller Type and Bedroom')\n",
    "sns.barplot(x=\"seller_type\", y=\"bedroom\", data=cr).set_facecolor(\"LavenderBlush\")"
   ]
  },
  {
   "cell_type": "markdown",
   "id": "8e32960d",
   "metadata": {},
   "source": [
    "* From the above bar graphs, the seller type 'agent' has maximum amount of area,price,bathrooms and bedrooms more when compared to owners and buliders"
   ]
  },
  {
   "cell_type": "markdown",
   "id": "cc2e65a6",
   "metadata": {},
   "source": [
    "<h5><font color=\"darkblue\">Layout Type vs other numerical attributes</font>"
   ]
  },
  {
   "cell_type": "code",
   "execution_count": 219,
   "id": "5c7bb2dc",
   "metadata": {},
   "outputs": [
    {
     "data": {
      "image/png": "[encoded data removed]",
      "text/plain": [
       "<Figure size 1440x1008 with 4 Axes>"
      ]
     },
     "metadata": {
      "needs_background": "light"
     },
     "output_type": "display_data"
    }
   ],
   "source": [
    "fig = plt.figure(figsize=(20,14))\n",
    "\n",
    "\n",
    "plt.subplot(231)\n",
    "plt.grid()\n",
    "plt.title('Layout Type and Area')\n",
    "sns.barplot(x=\"layout_type\", y=\"area\", data=cr).set_facecolor(\"LavenderBlush\")\n",
    "\n",
    "plt.subplot(2,3,2)\n",
    "plt.grid()\n",
    "plt.title('Layout Type and Price')\n",
    "sns.barplot(x=\"layout_type\", y=\"price\", data=cr).set_facecolor(\"whitesmoke\")\n",
    "\n",
    "plt.subplot(233)\n",
    "plt.grid()\n",
    "plt.title('Layout Type and Bathroon')\n",
    "sns.barplot(x=\"layout_type\", y=\"bathroom\", data=cr).set_facecolor(\"LemonChiffon\")\n",
    "\n",
    "plt.subplot(2,3,4)\n",
    "plt.grid()\n",
    "plt.title('Layout Type and Bedroom')\n",
    "sns.barplot(x=\"layout_type\", y=\"bedroom\", data=cr).set_facecolor(\"Lavender\")"
   ]
  },
  {
   "cell_type": "markdown",
   "id": "d12b4b7a",
   "metadata": {},
   "source": [
    "* From the above Bar graphs,BHK has maximum amount of area, price, bedrooms and bathrooms compared to RK"
   ]
  },
  {
   "cell_type": "markdown",
   "id": "a1bf1bec",
   "metadata": {},
   "source": [
    "<h5><font color=\"darkblue\">Property Type vs other numerical attributes</font>"
   ]
  },
  {
   "cell_type": "code",
   "execution_count": 220,
   "id": "dd3f33b2",
   "metadata": {},
   "outputs": [
    {
     "data": {
      "image/png": "[encoded data removed]",
      "text/plain": [
       "<Figure size 1440x1008 with 4 Axes>"
      ]
     },
     "metadata": {
      "needs_background": "light"
     },
     "output_type": "display_data"
    }
   ],
   "source": [
    "fig = plt.figure(figsize=(20,14))\n",
    "\n",
    "\n",
    "plt.subplot(231)\n",
    "plt.grid()\n",
    "plt.title('Property Type and Area')\n",
    "sns.barplot(x=\"property_type\", y=\"area\", data=cr,hue = \"property_type\").set_facecolor(\"Lavender\")\n",
    "\n",
    "plt.subplot(2,3,2)\n",
    "plt.grid()\n",
    "plt.title('Property Type and Price')\n",
    "sns.barplot(x=\"property_type\", y=\"price\", data=cr,hue = \"property_type\").set_facecolor(\"LemonChiffon\")\n",
    "\n",
    "plt.subplot(233)\n",
    "plt.grid()\n",
    "plt.title('Property Type and Bathroon')\n",
    "sns.barplot(x=\"property_type\", y=\"bathroom\", data=cr,hue = \"property_type\").set_facecolor(\"whitesmoke\")\n",
    "\n",
    "plt.subplot(2,3,4)\n",
    "plt.grid()\n",
    "plt.title('Property Type and Bedroom')\n",
    "sns.barplot(x=\"property_type\", y=\"bedroom\", data=cr,hue = \"property_type\").set_facecolor(\"LavenderBlush\")"
   ]
  },
  {
   "cell_type": "markdown",
   "id": "61608aa9",
   "metadata": {},
   "source": [
    "From the above bar graphs we can say that Villas and Penthouses has more amount of price, area , bedrooms and bathrooms compared to other property types"
   ]
  },
  {
   "cell_type": "markdown",
   "id": "7c172fa5",
   "metadata": {},
   "source": [
    "<h5><font color=\"darkblue\">Furnish Type vs other numerical attributes</font>"
   ]
  },
  {
   "cell_type": "code",
   "execution_count": 221,
   "id": "01da52f9",
   "metadata": {},
   "outputs": [
    {
     "data": {
      "image/png": "[encoded data removed]",
      "text/plain": [
       "<Figure size 1440x1008 with 4 Axes>"
      ]
     },
     "metadata": {
      "needs_background": "light"
     },
     "output_type": "display_data"
    }
   ],
   "source": [
    "fig = plt.figure(figsize=(20,14))\n",
    "\n",
    "\n",
    "plt.subplot(231)\n",
    "plt.grid()\n",
    "plt.title('Furnish Type and Area')\n",
    "sns.barplot(x=\"furnish_type\", y=\"area\", data=cr).set_facecolor(\"LavenderBlush\")\n",
    "\n",
    "plt.subplot(2,3,2)\n",
    "plt.grid()\n",
    "plt.title('Furnish Type and Price')\n",
    "sns.barplot(x=\"furnish_type\", y=\"price\", data=cr).set_facecolor(\"whitesmoke\")\n",
    "\n",
    "plt.subplot(233)\n",
    "plt.grid()\n",
    "plt.title('Furnish Type and Bathroon')\n",
    "sns.barplot(x=\"furnish_type\", y=\"bathroom\", data=cr).set_facecolor(\"LemonChiffon\")\n",
    "\n",
    "plt.subplot(2,3,4)\n",
    "plt.grid()\n",
    "plt.title('Furnish Type and Bedroom')\n",
    "sns.barplot(x=\"furnish_type\", y=\"bedroom\", data=cr).set_facecolor(\"Lavender\")"
   ]
  },
  {
   "cell_type": "markdown",
   "id": "d82d4ebb",
   "metadata": {},
   "source": [
    "* Furnished houses has more area,price,number of bathrooms and bedrooms compared to semi-furnished and unfurnished houses"
   ]
  },
  {
   "cell_type": "code",
   "execution_count": 222,
   "id": "1cf9319f",
   "metadata": {},
   "outputs": [
    {
     "data": {
      "image/png": "[encoded data removed]",
      "text/plain": [
       "<Figure size 1440x1008 with 4 Axes>"
      ]
     },
     "metadata": {
      "needs_background": "light"
     },
     "output_type": "display_data"
    }
   ],
   "source": [
    "fig = plt.figure(figsize=(20,14))\n",
    "\n",
    "\n",
    "plt.subplot(231)\n",
    "plt.grid()\n",
    "plt.title('City and Area')\n",
    "sns.barplot(x=\"city\", y=\"area\", data=cr).set_facecolor(\"Lavender\")\n",
    "\n",
    "plt.subplot(2,3,2)\n",
    "plt.grid()\n",
    "plt.title('City and Price')\n",
    "sns.barplot(x=\"city\", y=\"price\", data=cr).set_facecolor(\"LemonChiffon\")\n",
    "\n",
    "plt.subplot(233)\n",
    "plt.grid()\n",
    "plt.title('City and Bathroon')\n",
    "sns.barplot(x=\"city\", y=\"bathroom\", data=cr).set_facecolor(\"whitesmoke\")\n",
    "\n",
    "plt.subplot(2,3,4)\n",
    "plt.grid()\n",
    "plt.title('City and Bedroom')\n",
    "sns.barplot(x=\"city\", y=\"bedroom\", data=cr).set_facecolor(\"LavenderBlush\")"
   ]
  },
  {
   "cell_type": "markdown",
   "id": "ea5aa87e",
   "metadata": {},
   "source": [
    "* Houses sold in Ahmedabad has more area among other cities\n",
    "\n",
    "* Maximum price for the houses are sold in Delhi\n"
   ]
  },
  {
   "cell_type": "code",
   "execution_count": 223,
   "id": "16c5d946",
   "metadata": {},
   "outputs": [
    {
     "data": {
      "text/html": [
       "<div>\n",
       "<style scoped>\n",
       "    .dataframe tbody tr th:only-of-type {\n",
       "        vertical-align: middle;\n",
       "    }\n",
       "\n",
       "    .dataframe tbody tr th {\n",
       "        vertical-align: top;\n",
       "    }\n",
       "\n",
       "    .dataframe thead th {\n",
       "        text-align: right;\n",
       "    }\n",
       "</style>\n",
       "<table border=\"1\" class=\"dataframe\">\n",
       "  <thead>\n",
       "    <tr style=\"text-align: right;\">\n",
       "      <th></th>\n",
       "      <th>bedroom</th>\n",
       "      <th>price</th>\n",
       "      <th>area</th>\n",
       "      <th>bathroom</th>\n",
       "    </tr>\n",
       "  </thead>\n",
       "  <tbody>\n",
       "    <tr>\n",
       "      <th>count</th>\n",
       "      <td>107612.000000</td>\n",
       "      <td>107612.000000</td>\n",
       "      <td>107612.000000</td>\n",
       "      <td>107612.000000</td>\n",
       "    </tr>\n",
       "    <tr>\n",
       "      <th>mean</th>\n",
       "      <td>2.097731</td>\n",
       "      <td>28316.928028</td>\n",
       "      <td>1158.681792</td>\n",
       "      <td>2.065067</td>\n",
       "    </tr>\n",
       "    <tr>\n",
       "      <th>std</th>\n",
       "      <td>0.951057</td>\n",
       "      <td>20914.773562</td>\n",
       "      <td>632.698494</td>\n",
       "      <td>0.939829</td>\n",
       "    </tr>\n",
       "    <tr>\n",
       "      <th>min</th>\n",
       "      <td>1.000000</td>\n",
       "      <td>1200.000000</td>\n",
       "      <td>100.000000</td>\n",
       "      <td>1.000000</td>\n",
       "    </tr>\n",
       "    <tr>\n",
       "      <th>25%</th>\n",
       "      <td>1.000000</td>\n",
       "      <td>13000.000000</td>\n",
       "      <td>650.000000</td>\n",
       "      <td>1.000000</td>\n",
       "    </tr>\n",
       "    <tr>\n",
       "      <th>50%</th>\n",
       "      <td>2.000000</td>\n",
       "      <td>20100.000000</td>\n",
       "      <td>1000.000000</td>\n",
       "      <td>2.000000</td>\n",
       "    </tr>\n",
       "    <tr>\n",
       "      <th>75%</th>\n",
       "      <td>3.000000</td>\n",
       "      <td>37000.000000</td>\n",
       "      <td>1450.000000</td>\n",
       "      <td>3.000000</td>\n",
       "    </tr>\n",
       "    <tr>\n",
       "      <th>max</th>\n",
       "      <td>6.000000</td>\n",
       "      <td>73000.000000</td>\n",
       "      <td>2650.000000</td>\n",
       "      <td>6.000000</td>\n",
       "    </tr>\n",
       "  </tbody>\n",
       "</table>\n",
       "</div>"
      ],
      "text/plain": [
       "             bedroom          price           area       bathroom\n",
       "count  107612.000000  107612.000000  107612.000000  107612.000000\n",
       "mean        2.097731   28316.928028    1158.681792       2.065067\n",
       "std         0.951057   20914.773562     632.698494       0.939829\n",
       "min         1.000000    1200.000000     100.000000       1.000000\n",
       "25%         1.000000   13000.000000     650.000000       1.000000\n",
       "50%         2.000000   20100.000000    1000.000000       2.000000\n",
       "75%         3.000000   37000.000000    1450.000000       3.000000\n",
       "max         6.000000   73000.000000    2650.000000       6.000000"
      ]
     },
     "execution_count": 223,
     "metadata": {},
     "output_type": "execute_result"
    }
   ],
   "source": [
    "#statistical summary for attributes having numerical values\n",
    "cr.describe()"
   ]
  },
  {
   "cell_type": "code",
   "execution_count": 224,
   "id": "20b63557",
   "metadata": {},
   "outputs": [
    {
     "data": {
      "text/html": [
       "<div>\n",
       "<style scoped>\n",
       "    .dataframe tbody tr th:only-of-type {\n",
       "        vertical-align: middle;\n",
       "    }\n",
       "\n",
       "    .dataframe tbody tr th {\n",
       "        vertical-align: top;\n",
       "    }\n",
       "\n",
       "    .dataframe thead th {\n",
       "        text-align: right;\n",
       "    }\n",
       "</style>\n",
       "<table border=\"1\" class=\"dataframe\">\n",
       "  <thead>\n",
       "    <tr style=\"text-align: right;\">\n",
       "      <th></th>\n",
       "      <th>bedroom</th>\n",
       "      <th>price</th>\n",
       "      <th>area</th>\n",
       "      <th>bathroom</th>\n",
       "    </tr>\n",
       "  </thead>\n",
       "  <tbody>\n",
       "    <tr>\n",
       "      <th>bedroom</th>\n",
       "      <td>1.000000</td>\n",
       "      <td>0.648070</td>\n",
       "      <td>0.861670</td>\n",
       "      <td>0.868044</td>\n",
       "    </tr>\n",
       "    <tr>\n",
       "      <th>price</th>\n",
       "      <td>0.648070</td>\n",
       "      <td>1.000000</td>\n",
       "      <td>0.699331</td>\n",
       "      <td>0.674038</td>\n",
       "    </tr>\n",
       "    <tr>\n",
       "      <th>area</th>\n",
       "      <td>0.861670</td>\n",
       "      <td>0.699331</td>\n",
       "      <td>1.000000</td>\n",
       "      <td>0.835074</td>\n",
       "    </tr>\n",
       "    <tr>\n",
       "      <th>bathroom</th>\n",
       "      <td>0.868044</td>\n",
       "      <td>0.674038</td>\n",
       "      <td>0.835074</td>\n",
       "      <td>1.000000</td>\n",
       "    </tr>\n",
       "  </tbody>\n",
       "</table>\n",
       "</div>"
      ],
      "text/plain": [
       "           bedroom     price      area  bathroom\n",
       "bedroom   1.000000  0.648070  0.861670  0.868044\n",
       "price     0.648070  1.000000  0.699331  0.674038\n",
       "area      0.861670  0.699331  1.000000  0.835074\n",
       "bathroom  0.868044  0.674038  0.835074  1.000000"
      ]
     },
     "execution_count": 224,
     "metadata": {},
     "output_type": "execute_result"
    }
   ],
   "source": [
    "#correlation\n",
    "cor = cr.corr()\n",
    "cor"
   ]
  },
  {
   "cell_type": "code",
   "execution_count": 225,
   "id": "b6d748e6",
   "metadata": {},
   "outputs": [
    {
     "data": {
      "text/plain": [
       "<AxesSubplot:>"
      ]
     },
     "execution_count": 225,
     "metadata": {},
     "output_type": "execute_result"
    },
    {
     "data": {
      "image/png": "[encoded data removed]",
      "text/plain": [
       "<Figure size 720x720 with 2 Axes>"
      ]
     },
     "metadata": {
      "needs_background": "light"
     },
     "output_type": "display_data"
    }
   ],
   "source": [
    "# heatmap\n",
    "plt.figure(figsize=(10,10))\n",
    "sns.heatmap(cor, annot=True, annot_kws={\"size\": 10})"
   ]
  },
  {
   "cell_type": "markdown",
   "id": "7cf18e01",
   "metadata": {},
   "source": [
    "From this heat map we can see that \n",
    "1. price and area,bathroom,bedroom are  positively correlated"
   ]
  },
  {
   "cell_type": "code",
   "execution_count": 226,
   "id": "7cbeaa63",
   "metadata": {},
   "outputs": [
    {
     "data": {
      "text/plain": [
       "Thane West                  1925\n",
       "Andheri East                1677\n",
       "Chembur                     1312\n",
       "Kharghar                    1214\n",
       "Wagholi                     1211\n",
       "                            ... \n",
       "Mahavir Enclave Part 2         1\n",
       "Shraddhanand Road              1\n",
       "Residency Road                 1\n",
       "Bharthal                       1\n",
       "Rajouri Garden Extension       1\n",
       "Name: locality, Length: 4146, dtype: int64"
      ]
     },
     "execution_count": 226,
     "metadata": {},
     "output_type": "execute_result"
    }
   ],
   "source": [
    "#getting value counts of each category in locality attribute\n",
    "cr['locality'].value_counts()"
   ]
  },
  {
   "cell_type": "code",
   "execution_count": 227,
   "id": "f8fc334e",
   "metadata": {},
   "outputs": [],
   "source": [
    "cr = cr.drop('locality',axis=1)                     \n"
   ]
  },
  {
   "cell_type": "markdown",
   "id": "9465001f",
   "metadata": {},
   "source": [
    "<h3><font color = \"orange\">Label Encoding</font>"
   ]
  },
  {
   "cell_type": "markdown",
   "id": "6d9f9ca2",
   "metadata": {},
   "source": [
    "Label Encoding refers to converting the labels into numeric form so as to convert it into the machine-readable form. Machine learning algorithms can then decide in a better way on how those labels must be operated. It is an important pre-processing step for the structured dataset in supervised learning"
   ]
  },
  {
   "cell_type": "code",
   "execution_count": 228,
   "id": "a2759836",
   "metadata": {},
   "outputs": [
    {
     "data": {
      "text/html": [
       "<div>\n",
       "<style scoped>\n",
       "    .dataframe tbody tr th:only-of-type {\n",
       "        vertical-align: middle;\n",
       "    }\n",
       "\n",
       "    .dataframe tbody tr th {\n",
       "        vertical-align: top;\n",
       "    }\n",
       "\n",
       "    .dataframe thead th {\n",
       "        text-align: right;\n",
       "    }\n",
       "</style>\n",
       "<table border=\"1\" class=\"dataframe\">\n",
       "  <thead>\n",
       "    <tr style=\"text-align: right;\">\n",
       "      <th></th>\n",
       "      <th>seller_type</th>\n",
       "      <th>bedroom</th>\n",
       "      <th>layout_type</th>\n",
       "      <th>property_type</th>\n",
       "      <th>price</th>\n",
       "      <th>area</th>\n",
       "      <th>furnish_type</th>\n",
       "      <th>bathroom</th>\n",
       "      <th>city</th>\n",
       "    </tr>\n",
       "  </thead>\n",
       "  <tbody>\n",
       "    <tr>\n",
       "      <th>0</th>\n",
       "      <td>2</td>\n",
       "      <td>2.0</td>\n",
       "      <td>0</td>\n",
       "      <td>0</td>\n",
       "      <td>20000.0</td>\n",
       "      <td>1450.0</td>\n",
       "      <td>0</td>\n",
       "      <td>2.0</td>\n",
       "      <td>0</td>\n",
       "    </tr>\n",
       "    <tr>\n",
       "      <th>1</th>\n",
       "      <td>2</td>\n",
       "      <td>1.0</td>\n",
       "      <td>1</td>\n",
       "      <td>4</td>\n",
       "      <td>7350.0</td>\n",
       "      <td>210.0</td>\n",
       "      <td>1</td>\n",
       "      <td>1.0</td>\n",
       "      <td>0</td>\n",
       "    </tr>\n",
       "    <tr>\n",
       "      <th>2</th>\n",
       "      <td>2</td>\n",
       "      <td>3.0</td>\n",
       "      <td>0</td>\n",
       "      <td>0</td>\n",
       "      <td>22000.0</td>\n",
       "      <td>1900.0</td>\n",
       "      <td>2</td>\n",
       "      <td>3.0</td>\n",
       "      <td>0</td>\n",
       "    </tr>\n",
       "    <tr>\n",
       "      <th>3</th>\n",
       "      <td>2</td>\n",
       "      <td>2.0</td>\n",
       "      <td>0</td>\n",
       "      <td>2</td>\n",
       "      <td>13000.0</td>\n",
       "      <td>1285.0</td>\n",
       "      <td>1</td>\n",
       "      <td>2.0</td>\n",
       "      <td>0</td>\n",
       "    </tr>\n",
       "    <tr>\n",
       "      <th>4</th>\n",
       "      <td>2</td>\n",
       "      <td>2.0</td>\n",
       "      <td>0</td>\n",
       "      <td>2</td>\n",
       "      <td>18000.0</td>\n",
       "      <td>1600.0</td>\n",
       "      <td>0</td>\n",
       "      <td>2.0</td>\n",
       "      <td>0</td>\n",
       "    </tr>\n",
       "  </tbody>\n",
       "</table>\n",
       "</div>"
      ],
      "text/plain": [
       "   seller_type  bedroom  layout_type  property_type    price    area  \\\n",
       "0            2      2.0            0              0  20000.0  1450.0   \n",
       "1            2      1.0            1              4   7350.0   210.0   \n",
       "2            2      3.0            0              0  22000.0  1900.0   \n",
       "3            2      2.0            0              2  13000.0  1285.0   \n",
       "4            2      2.0            0              2  18000.0  1600.0   \n",
       "\n",
       "   furnish_type  bathroom  city  \n",
       "0             0       2.0     0  \n",
       "1             1       1.0     0  \n",
       "2             2       3.0     0  \n",
       "3             1       2.0     0  \n",
       "4             0       2.0     0  "
      ]
     },
     "execution_count": 228,
     "metadata": {},
     "output_type": "execute_result"
    }
   ],
   "source": [
    "from sklearn.preprocessing import LabelEncoder\n",
    "le = LabelEncoder()\n",
    "for i in ['seller_type', 'layout_type', 'property_type', 'furnish_type','city']:\n",
    "    cr[i] = le.fit_transform(cr[i])\n",
    "cr.head()"
   ]
  },
  {
   "cell_type": "code",
   "execution_count": 229,
   "id": "7619aea1",
   "metadata": {},
   "outputs": [
    {
     "data": {
      "text/plain": [
       "(107612, 9)"
      ]
     },
     "execution_count": 229,
     "metadata": {},
     "output_type": "execute_result"
    }
   ],
   "source": [
    "#number of rows and columns in a dataframe\n",
    "cr.shape"
   ]
  },
  {
   "cell_type": "markdown",
   "id": "9363d54c",
   "metadata": {},
   "source": [
    "\n",
    "<h3><font color = \"brown\">Splitting the Dataframe into Features and Target Variable</font>"
   ]
  },
  {
   "cell_type": "code",
   "execution_count": 230,
   "id": "db55bb33",
   "metadata": {},
   "outputs": [],
   "source": [
    "#dropping the dependent variable from a features dataframe\n",
    "x = cr.drop(['price'],axis=1)"
   ]
  },
  {
   "cell_type": "code",
   "execution_count": 231,
   "id": "70864645",
   "metadata": {},
   "outputs": [
    {
     "data": {
      "text/plain": [
       "Index(['seller_type', 'bedroom', 'layout_type', 'property_type', 'area',\n",
       "       'furnish_type', 'bathroom', 'city'],\n",
       "      dtype='object')"
      ]
     },
     "execution_count": 231,
     "metadata": {},
     "output_type": "execute_result"
    }
   ],
   "source": [
    "#columns of  features dataframe\n",
    "x.columns"
   ]
  },
  {
   "cell_type": "code",
   "execution_count": 232,
   "id": "a173e0d3",
   "metadata": {},
   "outputs": [
    {
     "data": {
      "text/html": [
       "<div>\n",
       "<style scoped>\n",
       "    .dataframe tbody tr th:only-of-type {\n",
       "        vertical-align: middle;\n",
       "    }\n",
       "\n",
       "    .dataframe tbody tr th {\n",
       "        vertical-align: top;\n",
       "    }\n",
       "\n",
       "    .dataframe thead th {\n",
       "        text-align: right;\n",
       "    }\n",
       "</style>\n",
       "<table border=\"1\" class=\"dataframe\">\n",
       "  <thead>\n",
       "    <tr style=\"text-align: right;\">\n",
       "      <th></th>\n",
       "      <th>seller_type</th>\n",
       "      <th>bedroom</th>\n",
       "      <th>layout_type</th>\n",
       "      <th>property_type</th>\n",
       "      <th>area</th>\n",
       "      <th>furnish_type</th>\n",
       "      <th>bathroom</th>\n",
       "      <th>city</th>\n",
       "    </tr>\n",
       "  </thead>\n",
       "  <tbody>\n",
       "    <tr>\n",
       "      <th>0</th>\n",
       "      <td>2</td>\n",
       "      <td>2.0</td>\n",
       "      <td>0</td>\n",
       "      <td>0</td>\n",
       "      <td>1450.0</td>\n",
       "      <td>0</td>\n",
       "      <td>2.0</td>\n",
       "      <td>0</td>\n",
       "    </tr>\n",
       "    <tr>\n",
       "      <th>1</th>\n",
       "      <td>2</td>\n",
       "      <td>1.0</td>\n",
       "      <td>1</td>\n",
       "      <td>4</td>\n",
       "      <td>210.0</td>\n",
       "      <td>1</td>\n",
       "      <td>1.0</td>\n",
       "      <td>0</td>\n",
       "    </tr>\n",
       "    <tr>\n",
       "      <th>2</th>\n",
       "      <td>2</td>\n",
       "      <td>3.0</td>\n",
       "      <td>0</td>\n",
       "      <td>0</td>\n",
       "      <td>1900.0</td>\n",
       "      <td>2</td>\n",
       "      <td>3.0</td>\n",
       "      <td>0</td>\n",
       "    </tr>\n",
       "    <tr>\n",
       "      <th>3</th>\n",
       "      <td>2</td>\n",
       "      <td>2.0</td>\n",
       "      <td>0</td>\n",
       "      <td>2</td>\n",
       "      <td>1285.0</td>\n",
       "      <td>1</td>\n",
       "      <td>2.0</td>\n",
       "      <td>0</td>\n",
       "    </tr>\n",
       "    <tr>\n",
       "      <th>4</th>\n",
       "      <td>2</td>\n",
       "      <td>2.0</td>\n",
       "      <td>0</td>\n",
       "      <td>2</td>\n",
       "      <td>1600.0</td>\n",
       "      <td>0</td>\n",
       "      <td>2.0</td>\n",
       "      <td>0</td>\n",
       "    </tr>\n",
       "  </tbody>\n",
       "</table>\n",
       "</div>"
      ],
      "text/plain": [
       "   seller_type  bedroom  layout_type  property_type    area  furnish_type  \\\n",
       "0            2      2.0            0              0  1450.0             0   \n",
       "1            2      1.0            1              4   210.0             1   \n",
       "2            2      3.0            0              0  1900.0             2   \n",
       "3            2      2.0            0              2  1285.0             1   \n",
       "4            2      2.0            0              2  1600.0             0   \n",
       "\n",
       "   bathroom  city  \n",
       "0       2.0     0  \n",
       "1       1.0     0  \n",
       "2       3.0     0  \n",
       "3       2.0     0  \n",
       "4       2.0     0  "
      ]
     },
     "execution_count": 232,
     "metadata": {},
     "output_type": "execute_result"
    }
   ],
   "source": [
    "#getting top 5 rows of features dataframe\n",
    "x.head()"
   ]
  },
  {
   "cell_type": "code",
   "execution_count": 233,
   "id": "75daafd5",
   "metadata": {},
   "outputs": [],
   "source": [
    "#target variable\n",
    "y=cr['price']"
   ]
  },
  {
   "cell_type": "code",
   "execution_count": 234,
   "id": "9929b527",
   "metadata": {},
   "outputs": [
    {
     "data": {
      "text/plain": [
       "0    20000.0\n",
       "1     7350.0\n",
       "2    22000.0\n",
       "3    13000.0\n",
       "4    18000.0\n",
       "Name: price, dtype: float64"
      ]
     },
     "execution_count": 234,
     "metadata": {},
     "output_type": "execute_result"
    }
   ],
   "source": [
    "y.head()"
   ]
  },
  {
   "cell_type": "markdown",
   "id": "6f2da04d",
   "metadata": {},
   "source": [
    "\n",
    "<h3><font color = \"brown\">Splitting the Dataset into training and testing set</font>"
   ]
  },
  {
   "cell_type": "code",
   "execution_count": 235,
   "id": "87560e3a",
   "metadata": {},
   "outputs": [],
   "source": [
    "from sklearn.model_selection import train_test_split"
   ]
  },
  {
   "cell_type": "markdown",
   "id": "d416f343",
   "metadata": {},
   "source": [
    "I took 80% of data for training and 20% of data for testing"
   ]
  },
  {
   "cell_type": "code",
   "execution_count": 236,
   "id": "da8dd823",
   "metadata": {},
   "outputs": [],
   "source": [
    "x_train,x_test,y_train,y_test = train_test_split(x,y,test_size=0.2,random_state =0)"
   ]
  },
  {
   "cell_type": "code",
   "execution_count": 237,
   "id": "fe3ebec8",
   "metadata": {},
   "outputs": [
    {
     "data": {
      "text/html": [
       "<div>\n",
       "<style scoped>\n",
       "    .dataframe tbody tr th:only-of-type {\n",
       "        vertical-align: middle;\n",
       "    }\n",
       "\n",
       "    .dataframe tbody tr th {\n",
       "        vertical-align: top;\n",
       "    }\n",
       "\n",
       "    .dataframe thead th {\n",
       "        text-align: right;\n",
       "    }\n",
       "</style>\n",
       "<table border=\"1\" class=\"dataframe\">\n",
       "  <thead>\n",
       "    <tr style=\"text-align: right;\">\n",
       "      <th></th>\n",
       "      <th>seller_type</th>\n",
       "      <th>bedroom</th>\n",
       "      <th>layout_type</th>\n",
       "      <th>property_type</th>\n",
       "      <th>area</th>\n",
       "      <th>furnish_type</th>\n",
       "      <th>bathroom</th>\n",
       "      <th>city</th>\n",
       "    </tr>\n",
       "  </thead>\n",
       "  <tbody>\n",
       "    <tr>\n",
       "      <th>78140</th>\n",
       "      <td>0</td>\n",
       "      <td>4.0</td>\n",
       "      <td>0</td>\n",
       "      <td>1</td>\n",
       "      <td>2650.0</td>\n",
       "      <td>2</td>\n",
       "      <td>4.0</td>\n",
       "      <td>3</td>\n",
       "    </tr>\n",
       "    <tr>\n",
       "      <th>71963</th>\n",
       "      <td>0</td>\n",
       "      <td>3.0</td>\n",
       "      <td>0</td>\n",
       "      <td>1</td>\n",
       "      <td>2650.0</td>\n",
       "      <td>2</td>\n",
       "      <td>3.0</td>\n",
       "      <td>3</td>\n",
       "    </tr>\n",
       "    <tr>\n",
       "      <th>156312</th>\n",
       "      <td>0</td>\n",
       "      <td>3.0</td>\n",
       "      <td>0</td>\n",
       "      <td>0</td>\n",
       "      <td>1750.0</td>\n",
       "      <td>1</td>\n",
       "      <td>3.0</td>\n",
       "      <td>6</td>\n",
       "    </tr>\n",
       "    <tr>\n",
       "      <th>41248</th>\n",
       "      <td>2</td>\n",
       "      <td>1.0</td>\n",
       "      <td>0</td>\n",
       "      <td>1</td>\n",
       "      <td>1100.0</td>\n",
       "      <td>1</td>\n",
       "      <td>1.0</td>\n",
       "      <td>1</td>\n",
       "    </tr>\n",
       "    <tr>\n",
       "      <th>67429</th>\n",
       "      <td>0</td>\n",
       "      <td>3.0</td>\n",
       "      <td>0</td>\n",
       "      <td>1</td>\n",
       "      <td>2650.0</td>\n",
       "      <td>2</td>\n",
       "      <td>3.0</td>\n",
       "      <td>3</td>\n",
       "    </tr>\n",
       "  </tbody>\n",
       "</table>\n",
       "</div>"
      ],
      "text/plain": [
       "        seller_type  bedroom  layout_type  property_type    area  \\\n",
       "78140             0      4.0            0              1  2650.0   \n",
       "71963             0      3.0            0              1  2650.0   \n",
       "156312            0      3.0            0              0  1750.0   \n",
       "41248             2      1.0            0              1  1100.0   \n",
       "67429             0      3.0            0              1  2650.0   \n",
       "\n",
       "        furnish_type  bathroom  city  \n",
       "78140              2       4.0     3  \n",
       "71963              2       3.0     3  \n",
       "156312             1       3.0     6  \n",
       "41248              1       1.0     1  \n",
       "67429              2       3.0     3  "
      ]
     },
     "execution_count": 237,
     "metadata": {},
     "output_type": "execute_result"
    }
   ],
   "source": [
    "x_train.head()"
   ]
  },
  {
   "cell_type": "code",
   "execution_count": 238,
   "id": "1100df11",
   "metadata": {},
   "outputs": [
    {
     "data": {
      "text/plain": [
       "(86089, 8)"
      ]
     },
     "execution_count": 238,
     "metadata": {},
     "output_type": "execute_result"
    }
   ],
   "source": [
    "x_train.shape"
   ]
  },
  {
   "cell_type": "code",
   "execution_count": 239,
   "id": "9e5ec573",
   "metadata": {},
   "outputs": [
    {
     "data": {
      "text/plain": [
       "(21523, 8)"
      ]
     },
     "execution_count": 239,
     "metadata": {},
     "output_type": "execute_result"
    }
   ],
   "source": [
    "x_test.shape"
   ]
  },
  {
   "cell_type": "code",
   "execution_count": 240,
   "id": "5a65c559",
   "metadata": {},
   "outputs": [
    {
     "data": {
      "text/html": [
       "<div>\n",
       "<style scoped>\n",
       "    .dataframe tbody tr th:only-of-type {\n",
       "        vertical-align: middle;\n",
       "    }\n",
       "\n",
       "    .dataframe tbody tr th {\n",
       "        vertical-align: top;\n",
       "    }\n",
       "\n",
       "    .dataframe thead th {\n",
       "        text-align: right;\n",
       "    }\n",
       "</style>\n",
       "<table border=\"1\" class=\"dataframe\">\n",
       "  <thead>\n",
       "    <tr style=\"text-align: right;\">\n",
       "      <th></th>\n",
       "      <th>seller_type</th>\n",
       "      <th>bedroom</th>\n",
       "      <th>layout_type</th>\n",
       "      <th>property_type</th>\n",
       "      <th>area</th>\n",
       "      <th>furnish_type</th>\n",
       "      <th>bathroom</th>\n",
       "      <th>city</th>\n",
       "    </tr>\n",
       "  </thead>\n",
       "  <tbody>\n",
       "    <tr>\n",
       "      <th>156588</th>\n",
       "      <td>2</td>\n",
       "      <td>1.0</td>\n",
       "      <td>0</td>\n",
       "      <td>2</td>\n",
       "      <td>600.0</td>\n",
       "      <td>0</td>\n",
       "      <td>1.0</td>\n",
       "      <td>6</td>\n",
       "    </tr>\n",
       "    <tr>\n",
       "      <th>140953</th>\n",
       "      <td>0</td>\n",
       "      <td>1.0</td>\n",
       "      <td>0</td>\n",
       "      <td>0</td>\n",
       "      <td>400.0</td>\n",
       "      <td>2</td>\n",
       "      <td>1.0</td>\n",
       "      <td>6</td>\n",
       "    </tr>\n",
       "    <tr>\n",
       "      <th>93149</th>\n",
       "      <td>2</td>\n",
       "      <td>2.0</td>\n",
       "      <td>0</td>\n",
       "      <td>1</td>\n",
       "      <td>1000.0</td>\n",
       "      <td>2</td>\n",
       "      <td>1.0</td>\n",
       "      <td>4</td>\n",
       "    </tr>\n",
       "    <tr>\n",
       "      <th>25621</th>\n",
       "      <td>0</td>\n",
       "      <td>2.0</td>\n",
       "      <td>0</td>\n",
       "      <td>0</td>\n",
       "      <td>1150.0</td>\n",
       "      <td>1</td>\n",
       "      <td>1.0</td>\n",
       "      <td>1</td>\n",
       "    </tr>\n",
       "    <tr>\n",
       "      <th>155450</th>\n",
       "      <td>0</td>\n",
       "      <td>4.0</td>\n",
       "      <td>0</td>\n",
       "      <td>0</td>\n",
       "      <td>2400.0</td>\n",
       "      <td>1</td>\n",
       "      <td>4.0</td>\n",
       "      <td>6</td>\n",
       "    </tr>\n",
       "  </tbody>\n",
       "</table>\n",
       "</div>"
      ],
      "text/plain": [
       "        seller_type  bedroom  layout_type  property_type    area  \\\n",
       "156588            2      1.0            0              2   600.0   \n",
       "140953            0      1.0            0              0   400.0   \n",
       "93149             2      2.0            0              1  1000.0   \n",
       "25621             0      2.0            0              0  1150.0   \n",
       "155450            0      4.0            0              0  2400.0   \n",
       "\n",
       "        furnish_type  bathroom  city  \n",
       "156588             0       1.0     6  \n",
       "140953             2       1.0     6  \n",
       "93149              2       1.0     4  \n",
       "25621              1       1.0     1  \n",
       "155450             1       4.0     6  "
      ]
     },
     "execution_count": 240,
     "metadata": {},
     "output_type": "execute_result"
    }
   ],
   "source": [
    "x_test.head()"
   ]
  },
  {
   "cell_type": "markdown",
   "id": "4612c433",
   "metadata": {},
   "source": [
    "### LINEAR REGRESSION(Model 1)\n"
   ]
  },
  {
   "cell_type": "code",
   "execution_count": 241,
   "id": "79d71211",
   "metadata": {},
   "outputs": [
    {
     "name": "stdout",
     "output_type": "stream",
     "text": [
      "The training score is 60.501\n",
      "The testing score is 60.41\n"
     ]
    },
    {
     "data": {
      "text/plain": [
       "array([16766.52923651, 11975.48599217, 12112.83123446, ...,\n",
       "       16212.71166274, -2822.22391436,  1192.00444243])"
      ]
     },
     "execution_count": 241,
     "metadata": {},
     "output_type": "execute_result"
    }
   ],
   "source": [
    "from sklearn.linear_model import LinearRegression\n",
    "model1 = LinearRegression()\n",
    "model1.fit(x_train, y_train)\n",
    "training_score = round(model1.score(x_train,y_train)*100,3)\n",
    "print(\"The training score is\",training_score)\n",
    "testing_score = round(model1.score(x_test,y_test)*100,3)\n",
    "print(\"The testing score is\",testing_score)\n",
    "y_pred = model1.predict(x_test)\n",
    "y_pred"
   ]
  },
  {
   "cell_type": "code",
   "execution_count": 242,
   "id": "363686be",
   "metadata": {},
   "outputs": [
    {
     "data": {
      "text/plain": [
       "0.6040984501359092"
      ]
     },
     "execution_count": 242,
     "metadata": {},
     "output_type": "execute_result"
    }
   ],
   "source": [
    "#accuracy score of model 1\n",
    "score1 = r2_score(y_test,y_pred)\n",
    "score1"
   ]
  },
  {
   "cell_type": "code",
   "execution_count": 243,
   "id": "beb06f5f",
   "metadata": {},
   "outputs": [
    {
     "data": {
      "text/html": [
       "<div>\n",
       "<style scoped>\n",
       "    .dataframe tbody tr th:only-of-type {\n",
       "        vertical-align: middle;\n",
       "    }\n",
       "\n",
       "    .dataframe tbody tr th {\n",
       "        vertical-align: top;\n",
       "    }\n",
       "\n",
       "    .dataframe thead th {\n",
       "        text-align: right;\n",
       "    }\n",
       "</style>\n",
       "<table border=\"1\" class=\"dataframe\">\n",
       "  <thead>\n",
       "    <tr style=\"text-align: right;\">\n",
       "      <th></th>\n",
       "      <th>Actual</th>\n",
       "      <th>Predicted</th>\n",
       "      <th>variance</th>\n",
       "    </tr>\n",
       "  </thead>\n",
       "  <tbody>\n",
       "    <tr>\n",
       "      <th>156588</th>\n",
       "      <td>35000.0</td>\n",
       "      <td>16766.529237</td>\n",
       "      <td>18233.470763</td>\n",
       "    </tr>\n",
       "    <tr>\n",
       "      <th>140953</th>\n",
       "      <td>25000.0</td>\n",
       "      <td>11975.485992</td>\n",
       "      <td>13024.514008</td>\n",
       "    </tr>\n",
       "    <tr>\n",
       "      <th>93149</th>\n",
       "      <td>17000.0</td>\n",
       "      <td>12112.831234</td>\n",
       "      <td>4887.168766</td>\n",
       "    </tr>\n",
       "    <tr>\n",
       "      <th>25621</th>\n",
       "      <td>19000.0</td>\n",
       "      <td>18672.482898</td>\n",
       "      <td>327.517102</td>\n",
       "    </tr>\n",
       "    <tr>\n",
       "      <th>155450</th>\n",
       "      <td>73000.0</td>\n",
       "      <td>65773.109287</td>\n",
       "      <td>7226.890713</td>\n",
       "    </tr>\n",
       "  </tbody>\n",
       "</table>\n",
       "</div>"
      ],
      "text/plain": [
       "         Actual     Predicted      variance\n",
       "156588  35000.0  16766.529237  18233.470763\n",
       "140953  25000.0  11975.485992  13024.514008\n",
       "93149   17000.0  12112.831234   4887.168766\n",
       "25621   19000.0  18672.482898    327.517102\n",
       "155450  73000.0  65773.109287   7226.890713"
      ]
     },
     "execution_count": 243,
     "metadata": {},
     "output_type": "execute_result"
    }
   ],
   "source": [
    "df = pd.DataFrame({'Actual':y_test,'Predicted':y_pred,'variance':y_test-y_pred})\n",
    "df.head()"
   ]
  },
  {
   "cell_type": "code",
   "execution_count": 244,
   "id": "15857bb3",
   "metadata": {},
   "outputs": [
    {
     "data": {
      "image/png": "[encoded data removed]",
      "text/plain": [
       "<Figure size 432x288 with 1 Axes>"
      ]
     },
     "metadata": {
      "needs_background": "light"
     },
     "output_type": "display_data"
    }
   ],
   "source": [
    "#residuals\n",
    "residue = (y_test,y_pred)\n",
    "\n",
    "#residual plot\n",
    "x=[i for i in range(1,len(y_pred)+1)]\n",
    "x_plot = plt.scatter(x,(y_test-y_pred),c='c')\n",
    "plt.plot(x,[0]*len(y_pred),c='b')\n",
    "plt.title(\"Residual plot\")\n",
    "plt.show()"
   ]
  },
  {
   "cell_type": "markdown",
   "id": "3d1a82e2",
   "metadata": {},
   "source": [
    "### RIDGE REGRESSION(Model 2)"
   ]
  },
  {
   "cell_type": "code",
   "execution_count": 245,
   "id": "bc9d9292",
   "metadata": {},
   "outputs": [
    {
     "name": "stdout",
     "output_type": "stream",
     "text": [
      "The training score is 60.492\n",
      "The testing score is 60.399\n"
     ]
    },
    {
     "data": {
      "text/plain": [
       "array([16625.80226645, 12067.53730279, 12196.37652713, ...,\n",
       "       16317.89731461, -2541.84210617,  1302.64811594])"
      ]
     },
     "execution_count": 245,
     "metadata": {},
     "output_type": "execute_result"
    }
   ],
   "source": [
    "from sklearn.linear_model import Ridge\n",
    "#alpha range = [0.01,0.05,0.5,5]\n",
    "model2 = Ridge(alpha = 0.01,normalize = True)\n",
    "model2.fit(x_train,y_train)\n",
    "training_score = round(model2.score(x_train,y_train)*100,3)\n",
    "print(\"The training score is\",training_score)\n",
    "testing_score = round(model2.score(x_test,y_test)*100,3)\n",
    "print(\"The testing score is\",testing_score)\n",
    "from sklearn.metrics import r2_score\n",
    "\n",
    "pred1 = model2.predict(x_test)\n",
    "pred1"
   ]
  },
  {
   "cell_type": "code",
   "execution_count": 246,
   "id": "29cabc2f",
   "metadata": {},
   "outputs": [
    {
     "data": {
      "text/plain": [
       "0.6039915827528851"
      ]
     },
     "execution_count": 246,
     "metadata": {},
     "output_type": "execute_result"
    }
   ],
   "source": [
    "#accuracy score of model 2\n",
    "score2 = r2_score(y_test,pred1)\n",
    "score2"
   ]
  },
  {
   "cell_type": "code",
   "execution_count": 247,
   "id": "bb83542b",
   "metadata": {},
   "outputs": [
    {
     "data": {
      "text/html": [
       "<div>\n",
       "<style scoped>\n",
       "    .dataframe tbody tr th:only-of-type {\n",
       "        vertical-align: middle;\n",
       "    }\n",
       "\n",
       "    .dataframe tbody tr th {\n",
       "        vertical-align: top;\n",
       "    }\n",
       "\n",
       "    .dataframe thead th {\n",
       "        text-align: right;\n",
       "    }\n",
       "</style>\n",
       "<table border=\"1\" class=\"dataframe\">\n",
       "  <thead>\n",
       "    <tr style=\"text-align: right;\">\n",
       "      <th></th>\n",
       "      <th>Actual</th>\n",
       "      <th>Predicted</th>\n",
       "      <th>variance</th>\n",
       "    </tr>\n",
       "  </thead>\n",
       "  <tbody>\n",
       "    <tr>\n",
       "      <th>156588</th>\n",
       "      <td>35000.0</td>\n",
       "      <td>16625.802266</td>\n",
       "      <td>18374.197734</td>\n",
       "    </tr>\n",
       "    <tr>\n",
       "      <th>140953</th>\n",
       "      <td>25000.0</td>\n",
       "      <td>12067.537303</td>\n",
       "      <td>12932.462697</td>\n",
       "    </tr>\n",
       "    <tr>\n",
       "      <th>93149</th>\n",
       "      <td>17000.0</td>\n",
       "      <td>12196.376527</td>\n",
       "      <td>4803.623473</td>\n",
       "    </tr>\n",
       "    <tr>\n",
       "      <th>25621</th>\n",
       "      <td>19000.0</td>\n",
       "      <td>18748.918270</td>\n",
       "      <td>251.081730</td>\n",
       "    </tr>\n",
       "    <tr>\n",
       "      <th>155450</th>\n",
       "      <td>73000.0</td>\n",
       "      <td>65556.246155</td>\n",
       "      <td>7443.753845</td>\n",
       "    </tr>\n",
       "  </tbody>\n",
       "</table>\n",
       "</div>"
      ],
      "text/plain": [
       "         Actual     Predicted      variance\n",
       "156588  35000.0  16625.802266  18374.197734\n",
       "140953  25000.0  12067.537303  12932.462697\n",
       "93149   17000.0  12196.376527   4803.623473\n",
       "25621   19000.0  18748.918270    251.081730\n",
       "155450  73000.0  65556.246155   7443.753845"
      ]
     },
     "execution_count": 247,
     "metadata": {},
     "output_type": "execute_result"
    }
   ],
   "source": [
    "df1 = pd.DataFrame({'Actual':y_test,'Predicted':pred1,'variance':y_test-pred1})\n",
    "df1.head()"
   ]
  },
  {
   "cell_type": "code",
   "execution_count": 269,
   "id": "af0e3bb0",
   "metadata": {},
   "outputs": [
    {
     "data": {
      "image/png": "[encoded data removed]",
      "text/plain": [
       "<Figure size 432x288 with 1 Axes>"
      ]
     },
     "metadata": {
      "needs_background": "light"
     },
     "output_type": "display_data"
    }
   ],
   "source": [
    "#residuals\n",
    "residue = (y_test,pred1)\n",
    "\n",
    "#residual plot\n",
    "x=[i for i in range(1,len(pred1)+1)]\n",
    "x_plot = plt.scatter(x,(y_test-pred1),c='pink')\n",
    "plt.plot(x,[0]*len(pred1),c='b')\n",
    "plt.title(\"Residual plot\")\n",
    "plt.show()"
   ]
  },
  {
   "cell_type": "markdown",
   "id": "0b4eba23",
   "metadata": {},
   "source": [
    "### LASSO REGRESSION(Model 3)"
   ]
  },
  {
   "cell_type": "code",
   "execution_count": 249,
   "id": "0fef2e16",
   "metadata": {},
   "outputs": [
    {
     "name": "stdout",
     "output_type": "stream",
     "text": [
      "The training score is 60.501\n",
      "The testing score is 60.41\n"
     ]
    },
    {
     "data": {
      "text/plain": [
       "array([16762.20533952, 11981.81080982, 12121.16451987, ...,\n",
       "       16219.56905845, -2806.1669489 ,  1207.36907502])"
      ]
     },
     "execution_count": 249,
     "metadata": {},
     "output_type": "execute_result"
    }
   ],
   "source": [
    "from sklearn.linear_model import Lasso\n",
    "model3 = Lasso(alpha = 0.01,normalize = True)\n",
    "model3.fit(x_train,y_train)\n",
    "training_score = round(model3.score(x_train,y_train)*100,3)\n",
    "print(\"The training score is\",training_score)\n",
    "testing_score = round(model3.score(x_test,y_test)*100,3)\n",
    "print(\"The testing score is\",testing_score)\n",
    "lpred = model3.predict(x_test)\n",
    "lpred"
   ]
  },
  {
   "cell_type": "code",
   "execution_count": 250,
   "id": "8206dde6",
   "metadata": {},
   "outputs": [
    {
     "data": {
      "text/plain": [
       "0.6040994514019666"
      ]
     },
     "execution_count": 250,
     "metadata": {},
     "output_type": "execute_result"
    }
   ],
   "source": [
    "#accuracy score of model 3\n",
    "score3 = r2_score(y_test,lpred)\n",
    "score3"
   ]
  },
  {
   "cell_type": "code",
   "execution_count": 251,
   "id": "bc49a165",
   "metadata": {},
   "outputs": [
    {
     "data": {
      "text/html": [
       "<div>\n",
       "<style scoped>\n",
       "    .dataframe tbody tr th:only-of-type {\n",
       "        vertical-align: middle;\n",
       "    }\n",
       "\n",
       "    .dataframe tbody tr th {\n",
       "        vertical-align: top;\n",
       "    }\n",
       "\n",
       "    .dataframe thead th {\n",
       "        text-align: right;\n",
       "    }\n",
       "</style>\n",
       "<table border=\"1\" class=\"dataframe\">\n",
       "  <thead>\n",
       "    <tr style=\"text-align: right;\">\n",
       "      <th></th>\n",
       "      <th>Actual</th>\n",
       "      <th>Predicted</th>\n",
       "      <th>variance</th>\n",
       "    </tr>\n",
       "  </thead>\n",
       "  <tbody>\n",
       "    <tr>\n",
       "      <th>156588</th>\n",
       "      <td>35000.0</td>\n",
       "      <td>16762.205340</td>\n",
       "      <td>18237.794660</td>\n",
       "    </tr>\n",
       "    <tr>\n",
       "      <th>140953</th>\n",
       "      <td>25000.0</td>\n",
       "      <td>11981.810810</td>\n",
       "      <td>13018.189190</td>\n",
       "    </tr>\n",
       "    <tr>\n",
       "      <th>93149</th>\n",
       "      <td>17000.0</td>\n",
       "      <td>12121.164520</td>\n",
       "      <td>4878.835480</td>\n",
       "    </tr>\n",
       "    <tr>\n",
       "      <th>25621</th>\n",
       "      <td>19000.0</td>\n",
       "      <td>18678.747364</td>\n",
       "      <td>321.252636</td>\n",
       "    </tr>\n",
       "    <tr>\n",
       "      <th>155450</th>\n",
       "      <td>73000.0</td>\n",
       "      <td>65761.249545</td>\n",
       "      <td>7238.750455</td>\n",
       "    </tr>\n",
       "  </tbody>\n",
       "</table>\n",
       "</div>"
      ],
      "text/plain": [
       "         Actual     Predicted      variance\n",
       "156588  35000.0  16762.205340  18237.794660\n",
       "140953  25000.0  11981.810810  13018.189190\n",
       "93149   17000.0  12121.164520   4878.835480\n",
       "25621   19000.0  18678.747364    321.252636\n",
       "155450  73000.0  65761.249545   7238.750455"
      ]
     },
     "execution_count": 251,
     "metadata": {},
     "output_type": "execute_result"
    }
   ],
   "source": [
    "df = pd.DataFrame({'Actual':y_test,'Predicted':lpred,'variance':y_test-lpred})\n",
    "df.head()"
   ]
  },
  {
   "cell_type": "code",
   "execution_count": 252,
   "id": "264aebcf",
   "metadata": {},
   "outputs": [
    {
     "data": {
      "image/png": "[encoded data removed]",
      "text/plain": [
       "<Figure size 432x288 with 1 Axes>"
      ]
     },
     "metadata": {
      "needs_background": "light"
     },
     "output_type": "display_data"
    }
   ],
   "source": [
    "#residuals\n",
    "residue = (y_test,y_pred)\n",
    "\n",
    "#residual plot\n",
    "x=[i for i in range(1,len(lpred)+1)]\n",
    "x_plot = plt.scatter(x,(y_test-lpred),c='c')\n",
    "plt.plot(x,[0]*len(lpred),c='b')\n",
    "plt.title(\"Residual plot\")\n",
    "plt.show()"
   ]
  },
  {
   "cell_type": "markdown",
   "id": "75229c14",
   "metadata": {},
   "source": [
    "### XGB REGRESSOR(Model 4)"
   ]
  },
  {
   "cell_type": "code",
   "execution_count": 253,
   "id": "13934e7d",
   "metadata": {},
   "outputs": [
    {
     "name": "stdout",
     "output_type": "stream",
     "text": [
      "The training score is 81.813\n",
      "The testing score is 77.564\n"
     ]
    },
    {
     "data": {
      "text/plain": [
       "array([17976.021 , 16023.81  ,  9848.126 , ..., 16206.98  ,  6532.5557,\n",
       "       11098.11  ], dtype=float32)"
      ]
     },
     "execution_count": 253,
     "metadata": {},
     "output_type": "execute_result"
    }
   ],
   "source": [
    "from xgboost.sklearn import XGBRegressor\n",
    "model4 = XGBRegressor(subsample=1,colsample_bytree = 1,max_depth = 9)\n",
    "model4.fit(x_train,y_train)\n",
    "training_score = round(model4.score(x_train,y_train)*100,3)\n",
    "print(\"The training score is\",training_score)\n",
    "testing_score = round(model4.score(x_test,y_test)*100,3)\n",
    "print(\"The testing score is\",testing_score)\n",
    "y_pred = model4.predict(x_test)\n",
    "y_pred"
   ]
  },
  {
   "cell_type": "code",
   "execution_count": 254,
   "id": "0ab47853",
   "metadata": {},
   "outputs": [
    {
     "data": {
      "text/plain": [
       "0.7756419614819616"
      ]
     },
     "execution_count": 254,
     "metadata": {},
     "output_type": "execute_result"
    }
   ],
   "source": [
    "#accuracy score of model 4\n",
    "score4 = r2_score(y_test,y_pred)\n",
    "score4"
   ]
  },
  {
   "cell_type": "code",
   "execution_count": 255,
   "id": "039fa3ee",
   "metadata": {},
   "outputs": [
    {
     "data": {
      "text/html": [
       "<div>\n",
       "<style scoped>\n",
       "    .dataframe tbody tr th:only-of-type {\n",
       "        vertical-align: middle;\n",
       "    }\n",
       "\n",
       "    .dataframe tbody tr th {\n",
       "        vertical-align: top;\n",
       "    }\n",
       "\n",
       "    .dataframe thead th {\n",
       "        text-align: right;\n",
       "    }\n",
       "</style>\n",
       "<table border=\"1\" class=\"dataframe\">\n",
       "  <thead>\n",
       "    <tr style=\"text-align: right;\">\n",
       "      <th></th>\n",
       "      <th>Actual</th>\n",
       "      <th>Predicted</th>\n",
       "      <th>variance</th>\n",
       "    </tr>\n",
       "  </thead>\n",
       "  <tbody>\n",
       "    <tr>\n",
       "      <th>156588</th>\n",
       "      <td>35000.0</td>\n",
       "      <td>17976.021484</td>\n",
       "      <td>17023.978516</td>\n",
       "    </tr>\n",
       "    <tr>\n",
       "      <th>140953</th>\n",
       "      <td>25000.0</td>\n",
       "      <td>16023.809570</td>\n",
       "      <td>8976.190430</td>\n",
       "    </tr>\n",
       "    <tr>\n",
       "      <th>93149</th>\n",
       "      <td>17000.0</td>\n",
       "      <td>9848.125977</td>\n",
       "      <td>7151.874023</td>\n",
       "    </tr>\n",
       "    <tr>\n",
       "      <th>25621</th>\n",
       "      <td>19000.0</td>\n",
       "      <td>19079.304688</td>\n",
       "      <td>-79.304688</td>\n",
       "    </tr>\n",
       "    <tr>\n",
       "      <th>155450</th>\n",
       "      <td>73000.0</td>\n",
       "      <td>70904.968750</td>\n",
       "      <td>2095.031250</td>\n",
       "    </tr>\n",
       "  </tbody>\n",
       "</table>\n",
       "</div>"
      ],
      "text/plain": [
       "         Actual     Predicted      variance\n",
       "156588  35000.0  17976.021484  17023.978516\n",
       "140953  25000.0  16023.809570   8976.190430\n",
       "93149   17000.0   9848.125977   7151.874023\n",
       "25621   19000.0  19079.304688    -79.304688\n",
       "155450  73000.0  70904.968750   2095.031250"
      ]
     },
     "execution_count": 255,
     "metadata": {},
     "output_type": "execute_result"
    }
   ],
   "source": [
    "df2 = pd.DataFrame({'Actual':y_test,'Predicted':y_pred,'variance':y_test-y_pred})\n",
    "df2.head()"
   ]
  },
  {
   "cell_type": "code",
   "execution_count": 256,
   "id": "c1f32451",
   "metadata": {},
   "outputs": [
    {
     "data": {
      "image/png": "[encoded data removed]",
      "text/plain": [
       "<Figure size 432x288 with 1 Axes>"
      ]
     },
     "metadata": {
      "needs_background": "light"
     },
     "output_type": "display_data"
    }
   ],
   "source": [
    "residue = (y_test,y_pred)\n",
    "\n",
    "#residual plot\n",
    "x=[i for i in range(1,len(y_pred)+1)]\n",
    "x_plot = plt.scatter(x,(y_test-y_pred),c='red')\n",
    "plt.plot(x,[0]*len(y_pred),c='b')\n",
    "plt.title(\"Residual plot\")\n",
    "plt.show()"
   ]
  },
  {
   "cell_type": "markdown",
   "id": "6fde5f42",
   "metadata": {},
   "source": [
    "### DECISION TREE REGRESSOR(Model 5)"
   ]
  },
  {
   "cell_type": "code",
   "execution_count": 257,
   "id": "cdcb61b5",
   "metadata": {},
   "outputs": [
    {
     "name": "stdout",
     "output_type": "stream",
     "text": [
      "The training score is 84.898\n",
      "The testing score is 72.521\n"
     ]
    },
    {
     "data": {
      "text/plain": [
       "array([35000.        , 17616.07142857, 15000.        , ...,\n",
       "       14916.12903226,  8850.        , 10881.36363636])"
      ]
     },
     "execution_count": 257,
     "metadata": {},
     "output_type": "execute_result"
    }
   ],
   "source": [
    "from sklearn.tree import DecisionTreeRegressor\n",
    "model5 = DecisionTreeRegressor()\n",
    "model5.fit(x_train,y_train)\n",
    "training_score = round(model5.score(x_train,y_train)*100,3)\n",
    "print(\"The training score is\",training_score)\n",
    "testing_score = round(model5.score(x_test,y_test)*100,3)\n",
    "print(\"The testing score is\",testing_score)\n",
    "pred3 = model5.predict(x_test)\n",
    "pred3\n"
   ]
  },
  {
   "cell_type": "code",
   "execution_count": 258,
   "id": "2cb7b039",
   "metadata": {},
   "outputs": [
    {
     "data": {
      "text/plain": [
       "0.7252146699980735"
      ]
     },
     "execution_count": 258,
     "metadata": {},
     "output_type": "execute_result"
    }
   ],
   "source": [
    "#accuracy score of model 5\n",
    "score5 = r2_score(y_test,pred3)\n",
    "score5"
   ]
  },
  {
   "cell_type": "code",
   "execution_count": 259,
   "id": "9d21fcba",
   "metadata": {},
   "outputs": [
    {
     "data": {
      "text/html": [
       "<div>\n",
       "<style scoped>\n",
       "    .dataframe tbody tr th:only-of-type {\n",
       "        vertical-align: middle;\n",
       "    }\n",
       "\n",
       "    .dataframe tbody tr th {\n",
       "        vertical-align: top;\n",
       "    }\n",
       "\n",
       "    .dataframe thead th {\n",
       "        text-align: right;\n",
       "    }\n",
       "</style>\n",
       "<table border=\"1\" class=\"dataframe\">\n",
       "  <thead>\n",
       "    <tr style=\"text-align: right;\">\n",
       "      <th></th>\n",
       "      <th>Actual</th>\n",
       "      <th>Predicted</th>\n",
       "      <th>variance</th>\n",
       "    </tr>\n",
       "  </thead>\n",
       "  <tbody>\n",
       "    <tr>\n",
       "      <th>156588</th>\n",
       "      <td>35000.0</td>\n",
       "      <td>35000.000000</td>\n",
       "      <td>0.000000</td>\n",
       "    </tr>\n",
       "    <tr>\n",
       "      <th>140953</th>\n",
       "      <td>25000.0</td>\n",
       "      <td>17616.071429</td>\n",
       "      <td>7383.928571</td>\n",
       "    </tr>\n",
       "    <tr>\n",
       "      <th>93149</th>\n",
       "      <td>17000.0</td>\n",
       "      <td>15000.000000</td>\n",
       "      <td>2000.000000</td>\n",
       "    </tr>\n",
       "    <tr>\n",
       "      <th>25621</th>\n",
       "      <td>19000.0</td>\n",
       "      <td>18000.000000</td>\n",
       "      <td>1000.000000</td>\n",
       "    </tr>\n",
       "    <tr>\n",
       "      <th>155450</th>\n",
       "      <td>73000.0</td>\n",
       "      <td>73000.000000</td>\n",
       "      <td>0.000000</td>\n",
       "    </tr>\n",
       "  </tbody>\n",
       "</table>\n",
       "</div>"
      ],
      "text/plain": [
       "         Actual     Predicted     variance\n",
       "156588  35000.0  35000.000000     0.000000\n",
       "140953  25000.0  17616.071429  7383.928571\n",
       "93149   17000.0  15000.000000  2000.000000\n",
       "25621   19000.0  18000.000000  1000.000000\n",
       "155450  73000.0  73000.000000     0.000000"
      ]
     },
     "execution_count": 259,
     "metadata": {},
     "output_type": "execute_result"
    }
   ],
   "source": [
    "df = pd.DataFrame({'Actual':y_test,'Predicted':pred3,'variance':y_test-pred3})\n",
    "df.head()"
   ]
  },
  {
   "cell_type": "code",
   "execution_count": 260,
   "id": "30b17c7f",
   "metadata": {},
   "outputs": [
    {
     "data": {
      "image/png": "[encoded data removed]",
      "text/plain": [
       "<Figure size 432x288 with 1 Axes>"
      ]
     },
     "metadata": {
      "needs_background": "light"
     },
     "output_type": "display_data"
    }
   ],
   "source": [
    "#residuals\n",
    "residue = (y_test,pred3)\n",
    "\n",
    "#residual plot\n",
    "x=[i for i in range(1,len(pred3)+1)]\n",
    "x_plot = plt.scatter(x,(y_test-pred3),c='c')\n",
    "plt.plot(x,[0]*len(pred3),c='b')\n",
    "plt.title(\"Residual plot\")\n",
    "plt.show()"
   ]
  },
  {
   "cell_type": "markdown",
   "id": "c57b36e1",
   "metadata": {},
   "source": [
    "### RANDOM FOREST REGRESSOR(Model 6)"
   ]
  },
  {
   "cell_type": "code",
   "execution_count": 261,
   "id": "98148702",
   "metadata": {},
   "outputs": [
    {
     "name": "stdout",
     "output_type": "stream",
     "text": [
      "The training score is 84.024\n",
      "The testing score is 75.772\n"
     ]
    },
    {
     "data": {
      "text/plain": [
       "array([22211.08994709, 17819.42133699, 12929.49074074, ...,\n",
       "       15005.73671498,  8289.05555556, 10968.59419142])"
      ]
     },
     "execution_count": 261,
     "metadata": {},
     "output_type": "execute_result"
    }
   ],
   "source": [
    "from sklearn.ensemble import RandomForestRegressor\n",
    "model6 = RandomForestRegressor(n_estimators = 30, random_state =123)\n",
    "model6.fit(x_train, y_train) \n",
    "training_score = round(model6.score(x_train,y_train)*100,3)\n",
    "print(\"The training score is\",training_score)\n",
    "testing_score = round(model6.score(x_test,y_test)*100,3)\n",
    "print(\"The testing score is\",testing_score)\n",
    "pred6 = model6.predict(x_test)\n",
    "pred6\n"
   ]
  },
  {
   "cell_type": "code",
   "execution_count": 262,
   "id": "ba9bc348",
   "metadata": {},
   "outputs": [
    {
     "data": {
      "text/plain": [
       "0.7577183789836964"
      ]
     },
     "execution_count": 262,
     "metadata": {},
     "output_type": "execute_result"
    }
   ],
   "source": [
    "#accuracy score of model 6\n",
    "score6 = r2_score(y_test,pred6)\n",
    "score6"
   ]
  },
  {
   "cell_type": "code",
   "execution_count": 263,
   "id": "8dca4898",
   "metadata": {},
   "outputs": [
    {
     "data": {
      "text/html": [
       "<div>\n",
       "<style scoped>\n",
       "    .dataframe tbody tr th:only-of-type {\n",
       "        vertical-align: middle;\n",
       "    }\n",
       "\n",
       "    .dataframe tbody tr th {\n",
       "        vertical-align: top;\n",
       "    }\n",
       "\n",
       "    .dataframe thead th {\n",
       "        text-align: right;\n",
       "    }\n",
       "</style>\n",
       "<table border=\"1\" class=\"dataframe\">\n",
       "  <thead>\n",
       "    <tr style=\"text-align: right;\">\n",
       "      <th></th>\n",
       "      <th>Actual</th>\n",
       "      <th>Predicted</th>\n",
       "      <th>variance</th>\n",
       "    </tr>\n",
       "  </thead>\n",
       "  <tbody>\n",
       "    <tr>\n",
       "      <th>156588</th>\n",
       "      <td>35000.0</td>\n",
       "      <td>22211.089947</td>\n",
       "      <td>12788.910053</td>\n",
       "    </tr>\n",
       "    <tr>\n",
       "      <th>140953</th>\n",
       "      <td>25000.0</td>\n",
       "      <td>17819.421337</td>\n",
       "      <td>7180.578663</td>\n",
       "    </tr>\n",
       "    <tr>\n",
       "      <th>93149</th>\n",
       "      <td>17000.0</td>\n",
       "      <td>12929.490741</td>\n",
       "      <td>4070.509259</td>\n",
       "    </tr>\n",
       "    <tr>\n",
       "      <th>25621</th>\n",
       "      <td>19000.0</td>\n",
       "      <td>18983.333333</td>\n",
       "      <td>16.666667</td>\n",
       "    </tr>\n",
       "    <tr>\n",
       "      <th>155450</th>\n",
       "      <td>73000.0</td>\n",
       "      <td>73000.000000</td>\n",
       "      <td>0.000000</td>\n",
       "    </tr>\n",
       "  </tbody>\n",
       "</table>\n",
       "</div>"
      ],
      "text/plain": [
       "         Actual     Predicted      variance\n",
       "156588  35000.0  22211.089947  12788.910053\n",
       "140953  25000.0  17819.421337   7180.578663\n",
       "93149   17000.0  12929.490741   4070.509259\n",
       "25621   19000.0  18983.333333     16.666667\n",
       "155450  73000.0  73000.000000      0.000000"
      ]
     },
     "execution_count": 263,
     "metadata": {},
     "output_type": "execute_result"
    }
   ],
   "source": [
    "df4 = pd.DataFrame({'Actual':y_test,'Predicted':pred6,'variance':y_test-pred6})\n",
    "df4.head()"
   ]
  },
  {
   "cell_type": "code",
   "execution_count": 264,
   "id": "528e526f",
   "metadata": {},
   "outputs": [
    {
     "data": {
      "image/png": "[encoded data removed]",
      "text/plain": [
       "<Figure size 432x288 with 1 Axes>"
      ]
     },
     "metadata": {
      "needs_background": "light"
     },
     "output_type": "display_data"
    }
   ],
   "source": [
    "#residuals\n",
    "residue = (y_test,y_pred)\n",
    "\n",
    "#residual plot\n",
    "x=[i for i in range(1,len(pred6)+1)]\n",
    "x_plot = plt.scatter(x,(y_test-pred6),c='y')\n",
    "plt.plot(x,[0]*len(pred6),c='b')\n",
    "plt.title(\"Residual plot\")\n",
    "plt.show()"
   ]
  },
  {
   "cell_type": "code",
   "execution_count": 265,
   "id": "18eb8c12",
   "metadata": {},
   "outputs": [
    {
     "data": {
      "text/html": [
       "<div>\n",
       "<style scoped>\n",
       "    .dataframe tbody tr th:only-of-type {\n",
       "        vertical-align: middle;\n",
       "    }\n",
       "\n",
       "    .dataframe tbody tr th {\n",
       "        vertical-align: top;\n",
       "    }\n",
       "\n",
       "    .dataframe thead th {\n",
       "        text-align: right;\n",
       "    }\n",
       "</style>\n",
       "<table border=\"1\" class=\"dataframe\">\n",
       "  <thead>\n",
       "    <tr style=\"text-align: right;\">\n",
       "      <th></th>\n",
       "      <th>Linear Regression</th>\n",
       "      <th>Ridge Regression</th>\n",
       "      <th>Lasso Regression</th>\n",
       "      <th>XGB Regression</th>\n",
       "      <th>Decision Tree Regression</th>\n",
       "      <th>Random Forest Regression</th>\n",
       "    </tr>\n",
       "  </thead>\n",
       "  <tbody>\n",
       "    <tr>\n",
       "      <th>Model Accuracy Score:</th>\n",
       "      <td>60.409845</td>\n",
       "      <td>60.399158</td>\n",
       "      <td>60.409945</td>\n",
       "      <td>77.564196</td>\n",
       "      <td>72.521467</td>\n",
       "      <td>75.771838</td>\n",
       "    </tr>\n",
       "  </tbody>\n",
       "</table>\n",
       "</div>"
      ],
      "text/plain": [
       "                       Linear Regression  Ridge Regression  Lasso Regression  \\\n",
       "Model Accuracy Score:          60.409845         60.399158         60.409945   \n",
       "\n",
       "                       XGB Regression  Decision Tree Regression  \\\n",
       "Model Accuracy Score:       77.564196                 72.521467   \n",
       "\n",
       "                       Random Forest Regression  \n",
       "Model Accuracy Score:                 75.771838  "
      ]
     },
     "execution_count": 265,
     "metadata": {},
     "output_type": "execute_result"
    }
   ],
   "source": [
    "#creating a new dataframe to see the accuracy score of different models created above\n",
    "df = pd.DataFrame({'Linear Regression':score1*100,'Ridge Regression':score2*100,'Lasso Regression':score3*100,'XGB Regression':score4*100,'Decision Tree Regression':score5*100,'Random Forest Regression':score6*100},index=['Model Accuracy Score:'])\n",
    "df"
   ]
  },
  {
   "cell_type": "code",
   "execution_count": 266,
   "id": "46bb7918",
   "metadata": {},
   "outputs": [
    {
     "data": {
      "image/png": "[encoded data removed]",
      "text/plain": [
       "<Figure size 1080x576 with 1 Axes>"
      ]
     },
     "metadata": {},
     "output_type": "display_data"
    }
   ],
   "source": [
    "plt.figure(figsize=(15,8))\n",
    "x_value = [60.40,60.39,60.40,77.56,72.59,75.77]\n",
    "label = ['Linear Regression','Ridge Regression','Lasso Regression','XGB Regression','Decision Tree Regression','Random Forest Regression']\n",
    "plt.pie(x_value,labels=label,explode = [0,0,0,0.060,0,0],autopct=\"%.2f%%\")\n",
    "plt.show()"
   ]
  },
  {
   "cell_type": "markdown",
   "id": "a168fc74",
   "metadata": {},
   "source": [
    "* From the above 6 models created , i got good accuracy score in XGB Regressor model compared to other models"
   ]
  },
  {
   "cell_type": "markdown",
   "id": "88d9637d",
   "metadata": {},
   "source": [
    "\n",
    "<h3><font color = \"purple\">Prediction by getting new inputs</font>"
   ]
  },
  {
   "cell_type": "code",
   "execution_count": 267,
   "id": "37e3319b",
   "metadata": {},
   "outputs": [
    {
     "data": {
      "text/plain": [
       "array([7049.9727], dtype=float32)"
      ]
     },
     "execution_count": 267,
     "metadata": {},
     "output_type": "execute_result"
    }
   ],
   "source": [
    "#XGB Regression\n",
    "input_data1 =[[2,1.0,1,4,210.0,1,1.0,0]]\n",
    "df = pd.DataFrame(input_data1,columns=x_test.columns)\n",
    "df\n",
    "a1 = model4.predict(df)\n",
    "a1"
   ]
  },
  {
   "cell_type": "code",
   "execution_count": 268,
   "id": "24341080",
   "metadata": {},
   "outputs": [
    {
     "data": {
      "text/plain": [
       "array([12958.605], dtype=float32)"
      ]
     },
     "execution_count": 268,
     "metadata": {},
     "output_type": "execute_result"
    }
   ],
   "source": [
    "input_data2 =[[2,2.0,0,2,1285.0,1,2.0,0]]\n",
    "df = pd.DataFrame(input_data2,columns=x_test.columns)\n",
    "df\n",
    "a2 = model4.predict(df)\n",
    "a2"
   ]
  },
  {
   "cell_type": "markdown",
   "id": "08577197",
   "metadata": {},
   "source": [
    "## CONCLUSION:"
   ]
  },
  {
   "cell_type": "markdown",
   "id": "cc5d0345",
   "metadata": {},
   "source": [
    "* From the dataset i have found that Mumbai city has more counts than other cities\n",
    "* Compare to BHK and RK property types BHK has more price value than RK\n",
    "* Villa and Penthouse Property types has more price and area compared to other property types\n",
    "* For this problem I have used 6 models to predict the Rental price of the houses. In that XGB Regressor gives more accuracy     score than other models\n",
    "* Finally I predicted the rental price by giving new inputs similar to the existing data"
   ]
  },
  {
   "cell_type": "code",
   "execution_count": null,
   "id": "3899d1ef",
   "metadata": {},
   "outputs": [],
   "source": []
  }
 ],
 "metadata": {
  "kernelspec": {
   "display_name": "Python 3",
   "language": "python",
   "name": "python3"
  },
  "language_info": {
   "codemirror_mode": {
    "name": "ipython",
    "version": 3
   },
   "file_extension": ".py",
   "mimetype": "text/x-python",
   "name": "python",
   "nbconvert_exporter": "python",
   "pygments_lexer": "ipython3",
   "version": "3.8.8"
  }
 },
 "nbformat": 4,
 "nbformat_minor": 5
}
